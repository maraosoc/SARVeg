{
 "cells": [
  {
   "cell_type": "markdown",
   "id": "ba3f9d34",
   "metadata": {},
   "source": [
    "modelado (paramétrico, no paramétrico y ML) para estimar parámetros de la vegetación a partir de variables SAR\n",
    "\n",
    "**Objetivo (Y)**: estimar parámetros biofísicos de vegetación medidos en campo (biomasa, contenido de agua, indice de biomasa por altura IBA).\n",
    "\n",
    "**Predictores (X)**: derivados de SAR Sentinel‑1\n",
    "\n",
    "# 1- Carga y preparación de datos"
   ]
  },
  {
   "cell_type": "code",
   "execution_count": 1,
   "id": "aae742a1",
   "metadata": {},
   "outputs": [
    {
     "data": {
      "text/html": [
       "<div>\n",
       "<style scoped>\n",
       "    .dataframe tbody tr th:only-of-type {\n",
       "        vertical-align: middle;\n",
       "    }\n",
       "\n",
       "    .dataframe tbody tr th {\n",
       "        vertical-align: top;\n",
       "    }\n",
       "\n",
       "    .dataframe thead th {\n",
       "        text-align: right;\n",
       "    }\n",
       "</style>\n",
       "<table border=\"1\" class=\"dataframe\">\n",
       "  <thead>\n",
       "    <tr style=\"text-align: right;\">\n",
       "      <th></th>\n",
       "      <th>id_point</th>\n",
       "      <th>datetime</th>\n",
       "      <th>VWC</th>\n",
       "      <th>total_biomass</th>\n",
       "      <th>IBA</th>\n",
       "      <th>Sigma0_RATIO_VH_VV</th>\n",
       "      <th>Gamma0_RATIO_VH_VV</th>\n",
       "      <th>PC4</th>\n",
       "      <th>Alpha</th>\n",
       "    </tr>\n",
       "  </thead>\n",
       "  <tbody>\n",
       "    <tr>\n",
       "      <th>0</th>\n",
       "      <td>G1-1</td>\n",
       "      <td>2025-02-19 11:11:00</td>\n",
       "      <td>315.945035</td>\n",
       "      <td>1263.78014</td>\n",
       "      <td>1853.050059</td>\n",
       "      <td>0.809757</td>\n",
       "      <td>0.800494</td>\n",
       "      <td>1.222716</td>\n",
       "      <td>25.555786</td>\n",
       "    </tr>\n",
       "    <tr>\n",
       "      <th>1</th>\n",
       "      <td>G1-13</td>\n",
       "      <td>2025-02-19 11:48:00</td>\n",
       "      <td>166.896690</td>\n",
       "      <td>667.58676</td>\n",
       "      <td>755.188643</td>\n",
       "      <td>0.809795</td>\n",
       "      <td>0.800540</td>\n",
       "      <td>1.294960</td>\n",
       "      <td>30.238604</td>\n",
       "    </tr>\n",
       "    <tr>\n",
       "      <th>2</th>\n",
       "      <td>G1-17</td>\n",
       "      <td>2025-02-19 11:59:00</td>\n",
       "      <td>152.696690</td>\n",
       "      <td>610.78676</td>\n",
       "      <td>690.935249</td>\n",
       "      <td>0.809814</td>\n",
       "      <td>0.800561</td>\n",
       "      <td>1.309476</td>\n",
       "      <td>28.057308</td>\n",
       "    </tr>\n",
       "    <tr>\n",
       "      <th>3</th>\n",
       "      <td>G1-25</td>\n",
       "      <td>2025-02-19 12:17:00</td>\n",
       "      <td>188.196690</td>\n",
       "      <td>752.78676</td>\n",
       "      <td>865.272138</td>\n",
       "      <td>0.809852</td>\n",
       "      <td>0.800572</td>\n",
       "      <td>1.361530</td>\n",
       "      <td>22.238356</td>\n",
       "    </tr>\n",
       "    <tr>\n",
       "      <th>4</th>\n",
       "      <td>G1-9</td>\n",
       "      <td>2025-02-19 11:30:00</td>\n",
       "      <td>283.145035</td>\n",
       "      <td>1132.58014</td>\n",
       "      <td>1926.156701</td>\n",
       "      <td>0.809778</td>\n",
       "      <td>0.800519</td>\n",
       "      <td>1.462057</td>\n",
       "      <td>24.861599</td>\n",
       "    </tr>\n",
       "  </tbody>\n",
       "</table>\n",
       "</div>"
      ],
      "text/plain": [
       "  id_point             datetime         VWC  total_biomass          IBA  \\\n",
       "0     G1-1  2025-02-19 11:11:00  315.945035     1263.78014  1853.050059   \n",
       "1    G1-13  2025-02-19 11:48:00  166.896690      667.58676   755.188643   \n",
       "2    G1-17  2025-02-19 11:59:00  152.696690      610.78676   690.935249   \n",
       "3    G1-25  2025-02-19 12:17:00  188.196690      752.78676   865.272138   \n",
       "4     G1-9  2025-02-19 11:30:00  283.145035     1132.58014  1926.156701   \n",
       "\n",
       "   Sigma0_RATIO_VH_VV  Gamma0_RATIO_VH_VV       PC4      Alpha  \n",
       "0            0.809757            0.800494  1.222716  25.555786  \n",
       "1            0.809795            0.800540  1.294960  30.238604  \n",
       "2            0.809814            0.800561  1.309476  28.057308  \n",
       "3            0.809852            0.800572  1.361530  22.238356  \n",
       "4            0.809778            0.800519  1.462057  24.861599  "
      ]
     },
     "execution_count": 1,
     "metadata": {},
     "output_type": "execute_result"
    }
   ],
   "source": [
    "from utils.model_prep import load_dataset\n",
    "\n",
    "# 1) Datos\n",
    "data_path = '../../data/processed/SARGrass.csv'\n",
    "df = load_dataset(data_path)\n",
    "df.head()"
   ]
  },
  {
   "cell_type": "markdown",
   "id": "9da1bd8d",
   "metadata": {},
   "source": [
    "# 2- Modeling\n",
    "## Lineal"
   ]
  },
  {
   "cell_type": "code",
   "execution_count": 2,
   "id": "81dbfe7a",
   "metadata": {},
   "outputs": [],
   "source": [
    "from utils.model_prep import select_xy, random_splits\n",
    "\n",
    "# Definir las columnas de características y objetivo\n",
    "target_col = ['VWC', 'total_biomass', 'IBA']\n",
    "feature_cols = ['Sigma0_RATIO_VH_VV', 'Gamma0_RATIO_VH_VV', 'PC4', 'Alpha']\n",
    "X, y = select_xy(df, target_col, feature_cols)\n",
    "num_features = list(X.columns)\n",
    "\n",
    "# Dividir en conjuntos de prueba y validacion\n",
    "splits = random_splits(X, y, val_size=0.3, random_state=42)\n",
    "(X_train, y_train) = splits[\"train\"]\n",
    "(X_val,   y_val)   = splits[\"val\"]"
   ]
  },
  {
   "cell_type": "code",
   "execution_count": 3,
   "id": "06860e4c",
   "metadata": {},
   "outputs": [
    {
     "name": "stdout",
     "output_type": "stream",
     "text": [
      "Ejecutando LR para: VWC\n",
      "Resultados para VWC: {'train': {'RMSE': 97.23853675457148, 'MAE': 75.77603384945944, 'R2': 0.24734444898153207, 'rRMSE(%)': 42.646550162941246}, 'val': {'RMSE': 98.56567851142259, 'MAE': 83.30143823038335, 'R2': 0.09409565903495942, 'rRMSE(%)': 48.92987800813021}}\n",
      "Ejecutando LR para: total_biomass\n",
      "Resultados para total_biomass: {'train': {'RMSE': 388.9541470182859, 'MAE': 303.1041353978377, 'R2': 0.24734444898153207, 'rRMSE(%)': 42.64655016294124}, 'val': {'RMSE': 394.2627140456904, 'MAE': 333.2057529215335, 'R2': 0.09409565903495931, 'rRMSE(%)': 48.92987800813022}}\n",
      "Ejecutando LR para: IBA\n",
      "Resultados para IBA: {'train': {'RMSE': 1406.4941678956948, 'MAE': 952.4627345691533, 'R2': 0.36371793978272826, 'rRMSE(%)': 61.46970245606338}, 'val': {'RMSE': 1088.0183264923426, 'MAE': 828.3224805358325, 'R2': -0.18890173871931037, 'rRMSE(%)': 62.477798825445674}}\n"
     ]
    },
    {
     "data": {
      "text/plain": [
       "<Figure size 640x480 with 0 Axes>"
      ]
     },
     "metadata": {},
     "output_type": "display_data"
    }
   ],
   "source": [
    "out_dir = '../../results/grass/artifacts_linear'\n",
    "\n",
    "from models.linear import run_baseline_from_splits\n",
    "# Ejecutar el baseline lineal para cada target_col\n",
    "for target in target_col:\n",
    "    print(f\"Ejecutando LR para: {target}\")\n",
    "    metrics_LR = run_baseline_from_splits(\n",
    "        X_train, y_train[target],\n",
    "        X_val, y_val[target],\n",
    "        target,\n",
    "        num_features,\n",
    "        model_type=\"ridge\",\n",
    "        alpha=1.0,\n",
    "        outdir=out_dir\n",
    "    )\n",
    "    print(f\"Resultados para {target}: {metrics_LR}\")"
   ]
  },
  {
   "cell_type": "markdown",
   "id": "b667162a",
   "metadata": {},
   "source": [
    "## No paramétrico"
   ]
  },
  {
   "cell_type": "code",
   "execution_count": 5,
   "id": "96efed6b",
   "metadata": {},
   "outputs": [
    {
     "name": "stdout",
     "output_type": "stream",
     "text": [
      "Ejecutando NW para VWC\n",
      "Metricas Nadaraya-Watson para VWC: {'train': {'RMSE': 82.72496791318007, 'MAE': 62.52106178825335, 'R2': 0.4552557511688826, 'rRMSE(%)': 36.28123799046451}, 'val': {'RMSE': 91.25269625737661, 'MAE': 78.8680981874229, 'R2': 0.22353422094000663, 'rRMSE(%)': 45.29957448899374}}\n",
      "Ejecutando NW para total_biomass\n",
      "Metricas Nadaraya-Watson para total_biomass: {'train': {'RMSE': 330.89987165272026, 'MAE': 250.0842471530134, 'R2': 0.4552557511688827, 'rRMSE(%)': 36.28123799046451}, 'val': {'RMSE': 365.0107850295065, 'MAE': 315.4723927496916, 'R2': 0.22353422094000652, 'rRMSE(%)': 45.29957448899375}}\n",
      "Ejecutando NW para IBA\n",
      "Metricas Nadaraya-Watson para IBA: {'train': {'RMSE': 1375.7011829252244, 'MAE': 854.9812578562891, 'R2': 0.39127375208165616, 'rRMSE(%)': 60.12391968136422}, 'val': {'RMSE': 974.1628941281334, 'MAE': 756.4840495637523, 'R2': 0.04690386709234706, 'rRMSE(%)': 55.939823659744036}}\n"
     ]
    }
   ],
   "source": [
    "from models.nonparam import run_nw_from_splits\n",
    "import numpy as np\n",
    "outdir = '../../results/grass/artifacts_nadaraya-watson'\n",
    "bandwidth_grid = np.logspace(-3, 1, 50) \n",
    "\n",
    "# Ejecutar el baseline Nadaraya-Watson para cada target_col\n",
    "for target in target_col:\n",
    "    print(f\"Ejecutando NW para {target}\")\n",
    "    metrics_nw = run_nw_from_splits(\n",
    "        X_train, y_train[target],\n",
    "        X_val, y_val[target],\n",
    "        target_col=target,\n",
    "        num_features=num_features,\n",
    "        bandwidth_grid=bandwidth_grid,\n",
    "        reg_type=\"lc\",\n",
    "        outdir=out_dir\n",
    "    )\n",
    "    print(f'Metricas Nadaraya-Watson para {target}: {metrics_nw}')"
   ]
  },
  {
   "cell_type": "markdown",
   "id": "bbc2acd4",
   "metadata": {},
   "source": [
    "## Random Forest"
   ]
  },
  {
   "cell_type": "code",
   "execution_count": 6,
   "id": "c7de16c1",
   "metadata": {},
   "outputs": [
    {
     "name": "stdout",
     "output_type": "stream",
     "text": [
      "Ejecutando RF para VWC\n",
      "Fitting 5 folds for each of 100 candidates, totalling 500 fits\n"
     ]
    },
    {
     "name": "stderr",
     "output_type": "stream",
     "text": [
      "c:\\Users\\amarula2\\.conda\\envs\\sar_vegetation\\Lib\\site-packages\\sklearn\\utils\\validation.py:2742: UserWarning: X has feature names, but RandomForestRegressor was fitted without feature names\n",
      "  warnings.warn(\n",
      "c:\\Users\\amarula2\\.conda\\envs\\sar_vegetation\\Lib\\site-packages\\sklearn\\utils\\validation.py:2742: UserWarning: X has feature names, but RandomForestRegressor was fitted without feature names\n",
      "  warnings.warn(\n"
     ]
    },
    {
     "name": "stdout",
     "output_type": "stream",
     "text": [
      "Metricas Random Forest para VWC: {'train': {'RMSE': 66.5904734856184, 'MAE': 50.65666150699758, 'R2': 0.6470252454320325, 'rRMSE(%)': 29.205025730140104}, 'val': {'RMSE': 83.08465975146959, 'MAE': 70.14755648433736, 'R2': 0.35631616849881154, 'rRMSE(%)': 41.24480577197356}}\n",
      "Ejecutando RF para total_biomass\n",
      "Fitting 5 folds for each of 100 candidates, totalling 500 fits\n"
     ]
    },
    {
     "name": "stderr",
     "output_type": "stream",
     "text": [
      "c:\\Users\\amarula2\\.conda\\envs\\sar_vegetation\\Lib\\site-packages\\sklearn\\utils\\validation.py:2742: UserWarning: X has feature names, but RandomForestRegressor was fitted without feature names\n",
      "  warnings.warn(\n",
      "c:\\Users\\amarula2\\.conda\\envs\\sar_vegetation\\Lib\\site-packages\\sklearn\\utils\\validation.py:2742: UserWarning: X has feature names, but RandomForestRegressor was fitted without feature names\n",
      "  warnings.warn(\n"
     ]
    },
    {
     "name": "stdout",
     "output_type": "stream",
     "text": [
      "Metricas Random Forest para total_biomass: {'train': {'RMSE': 266.36189394247356, 'MAE': 202.62664602799032, 'R2': 0.6470252454320327, 'rRMSE(%)': 29.205025730140093}, 'val': {'RMSE': 332.47255611984605, 'MAE': 280.6656836144401, 'R2': 0.35579731430451655, 'rRMSE(%)': 41.26142552275446}}\n",
      "Ejecutando RF para IBA\n",
      "Fitting 5 folds for each of 100 candidates, totalling 500 fits\n"
     ]
    },
    {
     "name": "stderr",
     "output_type": "stream",
     "text": [
      "c:\\Users\\amarula2\\.conda\\envs\\sar_vegetation\\Lib\\site-packages\\sklearn\\utils\\validation.py:2742: UserWarning: X has feature names, but RandomForestRegressor was fitted without feature names\n",
      "  warnings.warn(\n",
      "c:\\Users\\amarula2\\.conda\\envs\\sar_vegetation\\Lib\\site-packages\\sklearn\\utils\\validation.py:2742: UserWarning: X has feature names, but RandomForestRegressor was fitted without feature names\n",
      "  warnings.warn(\n"
     ]
    },
    {
     "name": "stdout",
     "output_type": "stream",
     "text": [
      "Metricas Random Forest para IBA: {'train': {'RMSE': 1383.1801166472806, 'MAE': 811.4371847653186, 'R2': 0.38463713887074524, 'rRMSE(%)': 60.4507804967711}, 'val': {'RMSE': 971.2887573705914, 'MAE': 701.8023380624339, 'R2': 0.05251953493389261, 'rRMSE(%)': 55.77478072456348}}\n"
     ]
    }
   ],
   "source": [
    "from models.random_forest import run_rf_from_splits\n",
    "outdir = '../../results/grass/artifacts_random_forest'\n",
    "\n",
    "param_dist = {\n",
    "    \"n_estimators\": np.arange(100, 1500, 100),  # Puedes probar desde 100 hasta 1500 árboles\n",
    "    \"max_depth\": [None] + list(np.arange(10, 50, 5)),  # Profundidad del árbol\n",
    "    \"min_samples_split\": np.arange(2, 21, 2),  # Mínimo de muestras para dividir un nodo\n",
    "    \"min_samples_leaf\": np.arange(1, 21, 2),  # Mínimo de muestras para ser hoja\n",
    "    \"max_features\": [None, \"sqrt\", \"log2\"],  # Número de features a probar\n",
    "    \"bootstrap\": [True, False]  # Usar muestras con reemplazo o no\n",
    "}\n",
    "\n",
    "for target in target_col:\n",
    "    print(f\"Ejecutando RF para {target}\")\n",
    "    metrics_rf = run_rf_from_splits(\n",
    "        X_train=X_train, \n",
    "        y_train=y_train[target],\n",
    "        X_val=X_val, \n",
    "        y_val=y_val[target],\n",
    "        target_col=target,\n",
    "        param_dist=param_dist,\n",
    "        num_features=num_features,\n",
    "        outdir=out_dir\n",
    "    )\n",
    "    print(f'Metricas Random Forest para {target}: {metrics_rf}')"
   ]
  },
  {
   "cell_type": "markdown",
   "id": "5e3f75e4",
   "metadata": {},
   "source": [
    "## LightGBM"
   ]
  },
  {
   "cell_type": "code",
   "execution_count": 11,
   "id": "775d4388",
   "metadata": {},
   "outputs": [
    {
     "name": "stdout",
     "output_type": "stream",
     "text": [
      "Ejecutando LGBM para: VWC\n",
      "Fitting 5 folds for each of 100 candidates, totalling 500 fits\n",
      "Resultados para VWC: {'train': {'RMSE': 63.42428084518919, 'MAE': 48.78378652860449, 'R2': 0.679793206115118, 'rRMSE(%)': 27.81640761871781}, 'val': {'RMSE': 82.2558133224513, 'MAE': 70.44282784506282, 'R2': 0.3690947943823878, 'rRMSE(%)': 40.8333506359483}}\n",
      "Ejecutando LGBM para: total_biomass\n",
      "Fitting 5 folds for each of 100 candidates, totalling 500 fits\n",
      "Resultados para total_biomass: {'train': {'RMSE': 253.69712338075675, 'MAE': 195.13514611441795, 'R2': 0.679793206115118, 'rRMSE(%)': 27.81640761871781}, 'val': {'RMSE': 329.02325328980527, 'MAE': 281.7713113802513, 'R2': 0.3690947943823878, 'rRMSE(%)': 40.833350635948314}}\n",
      "Ejecutando LGBM para: IBA\n",
      "Fitting 5 folds for each of 100 candidates, totalling 500 fits\n",
      "Resultados para IBA: {'train': {'RMSE': 976.0321872708165, 'MAE': 615.0703289927521, 'R2': 0.6935905981064212, 'rRMSE(%)': 42.65670594911926}, 'val': {'RMSE': 957.1450664295775, 'MAE': 716.5084702076988, 'R2': 0.07991262585247194, 'rRMSE(%)': 54.96260076789786}}\n"
     ]
    }
   ],
   "source": [
    "from models.lightgbm import run_lgbm_from_splits\n",
    "outdir = '../../results/grass/artifacts_lgbm'\n",
    "\n",
    "param_dist = {\n",
    "    \"n_estimators\": np.arange(100, 1500, 100),  # Puedes probar desde 100 hasta 1500 árboles\n",
    "    \"max_depth\": [None, 10, 20, 30, 40, 50],  # Profundidad del árbol\n",
    "    \"min_samples_split\": np.arange(2, 21, 2),  # Mínimo de muestras para dividir un nodo\n",
    "    \"min_samples_leaf\": np.arange(1, 21, 2),  # Mínimo de muestras para ser hoja\n",
    "    \"max_features\": [None, \"sqrt\", \"log2\"],  # Número de features a probar\n",
    "    \"bootstrap\": [True, False]  # Usar muestras con reemplazo o no\n",
    "}\n",
    "\n",
    "# Ejecutar el modelo LightGBM para cada variable\n",
    "for target in target_col:\n",
    "    print(f\"Ejecutando LGBM para: {target}\")\n",
    "    metrics_LGBM = run_lgbm_from_splits(\n",
    "        X_train, y_train[target],\n",
    "        X_val, y_val[target],\n",
    "        target_col=target,\n",
    "        param_dist=param_dist,\n",
    "        num_features=num_features,\n",
    "        outdir=outdir\n",
    "    )\n",
    "    print(f\"Resultados para {target}: {metrics_LGBM}\")"
   ]
  },
  {
   "cell_type": "markdown",
   "id": "b32ee14b",
   "metadata": {},
   "source": [
    "# Prediction maps"
   ]
  },
  {
   "cell_type": "markdown",
   "id": "c062a535",
   "metadata": {},
   "source": []
  }
 ],
 "metadata": {
  "kernelspec": {
   "display_name": "Python 3",
   "language": "python",
   "name": "python3"
  },
  "language_info": {
   "codemirror_mode": {
    "name": "ipython",
    "version": 3
   },
   "file_extension": ".py",
   "mimetype": "text/x-python",
   "name": "python",
   "nbconvert_exporter": "python",
   "pygments_lexer": "ipython3",
   "version": "3.13.5"
  }
 },
 "nbformat": 4,
 "nbformat_minor": 5
}
