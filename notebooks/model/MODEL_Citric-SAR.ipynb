{
 "cells": [
  {
   "cell_type": "markdown",
   "id": "6da1f6c2",
   "metadata": {},
   "source": [
    "modelado (paramétrico, no paramétrico y ML) para estimar parámetros de los citricos a partir de variables SAR\n",
    "\n",
    "**Objetivo (Y)**: estimar parámetros biofísicos de citricos medidos en campo (altura del arbol, diametro de la copa y biomasa).\n",
    "\n",
    "**Predictores (X)**: derivados de SAR Sentinel‑1\n",
    "\n",
    "# 1- Carga y preparación de datos"
   ]
  },
  {
   "cell_type": "code",
   "execution_count": 1,
   "id": "bd963904",
   "metadata": {},
   "outputs": [
    {
     "data": {
      "application/vnd.microsoft.datawrangler.viewer.v0+json": {
       "columns": [
        {
         "name": "index",
         "rawType": "int64",
         "type": "integer"
        },
        {
         "name": "id_point",
         "rawType": "object",
         "type": "string"
        },
        {
         "name": "datetime",
         "rawType": "object",
         "type": "string"
        },
        {
         "name": "tree_height",
         "rawType": "float64",
         "type": "float"
        },
        {
         "name": "canopy_diam",
         "rawType": "float64",
         "type": "float"
        },
        {
         "name": "biomass",
         "rawType": "float64",
         "type": "float"
        },
        {
         "name": "Sigma0_RATIO_VH_VV",
         "rawType": "float64",
         "type": "float"
        },
        {
         "name": "Gamma0_RATIO_VH_VV",
         "rawType": "float64",
         "type": "float"
        }
       ],
       "ref": "3de4027f-1141-40b7-8674-a0bb8561d5ac",
       "rows": [
        [
         "0",
         "O1-1",
         "2025-02-20 15:23:00",
         "4.16625",
         "4.459994500000001",
         "49.54040198685956",
         "0.8108414635128176",
         "0.801532875682325"
        ],
        [
         "1",
         "O1-13",
         "2025-02-20 15:36:00",
         "4.415",
         "4.846434",
         "60.1267466698565",
         "0.8108909540447177",
         "0.8015858632047372"
        ],
        [
         "2",
         "O1-17",
         "2025-02-20 16:06:00",
         "4.16",
         "4.258532000000001",
         "48.98562162186876",
         "0.8109093891761897",
         "0.8016122461298563"
        ],
        [
         "3",
         "O1-25",
         "2025-02-20 16:15:00",
         "4.86",
         "4.9230155",
         "68.78800600609335",
         "0.8109248923525827",
         "0.8016330386404508"
        ],
        [
         "4",
         "O1-9",
         "2025-02-20 15:30:00",
         "3.255",
         "4.6107595",
         "48.88888618803776",
         "0.8108685730714167",
         "0.8015546183154165"
        ]
       ],
       "shape": {
        "columns": 7,
        "rows": 5
       }
      },
      "text/html": [
       "<div>\n",
       "<style scoped>\n",
       "    .dataframe tbody tr th:only-of-type {\n",
       "        vertical-align: middle;\n",
       "    }\n",
       "\n",
       "    .dataframe tbody tr th {\n",
       "        vertical-align: top;\n",
       "    }\n",
       "\n",
       "    .dataframe thead th {\n",
       "        text-align: right;\n",
       "    }\n",
       "</style>\n",
       "<table border=\"1\" class=\"dataframe\">\n",
       "  <thead>\n",
       "    <tr style=\"text-align: right;\">\n",
       "      <th></th>\n",
       "      <th>id_point</th>\n",
       "      <th>datetime</th>\n",
       "      <th>tree_height</th>\n",
       "      <th>canopy_diam</th>\n",
       "      <th>biomass</th>\n",
       "      <th>Sigma0_RATIO_VH_VV</th>\n",
       "      <th>Gamma0_RATIO_VH_VV</th>\n",
       "    </tr>\n",
       "  </thead>\n",
       "  <tbody>\n",
       "    <tr>\n",
       "      <th>0</th>\n",
       "      <td>O1-1</td>\n",
       "      <td>2025-02-20 15:23:00</td>\n",
       "      <td>4.16625</td>\n",
       "      <td>4.459995</td>\n",
       "      <td>49.540402</td>\n",
       "      <td>0.810841</td>\n",
       "      <td>0.801533</td>\n",
       "    </tr>\n",
       "    <tr>\n",
       "      <th>1</th>\n",
       "      <td>O1-13</td>\n",
       "      <td>2025-02-20 15:36:00</td>\n",
       "      <td>4.41500</td>\n",
       "      <td>4.846434</td>\n",
       "      <td>60.126747</td>\n",
       "      <td>0.810891</td>\n",
       "      <td>0.801586</td>\n",
       "    </tr>\n",
       "    <tr>\n",
       "      <th>2</th>\n",
       "      <td>O1-17</td>\n",
       "      <td>2025-02-20 16:06:00</td>\n",
       "      <td>4.16000</td>\n",
       "      <td>4.258532</td>\n",
       "      <td>48.985622</td>\n",
       "      <td>0.810909</td>\n",
       "      <td>0.801612</td>\n",
       "    </tr>\n",
       "    <tr>\n",
       "      <th>3</th>\n",
       "      <td>O1-25</td>\n",
       "      <td>2025-02-20 16:15:00</td>\n",
       "      <td>4.86000</td>\n",
       "      <td>4.923015</td>\n",
       "      <td>68.788006</td>\n",
       "      <td>0.810925</td>\n",
       "      <td>0.801633</td>\n",
       "    </tr>\n",
       "    <tr>\n",
       "      <th>4</th>\n",
       "      <td>O1-9</td>\n",
       "      <td>2025-02-20 15:30:00</td>\n",
       "      <td>3.25500</td>\n",
       "      <td>4.610760</td>\n",
       "      <td>48.888886</td>\n",
       "      <td>0.810869</td>\n",
       "      <td>0.801555</td>\n",
       "    </tr>\n",
       "  </tbody>\n",
       "</table>\n",
       "</div>"
      ],
      "text/plain": [
       "  id_point             datetime  tree_height  canopy_diam    biomass  \\\n",
       "0     O1-1  2025-02-20 15:23:00      4.16625     4.459995  49.540402   \n",
       "1    O1-13  2025-02-20 15:36:00      4.41500     4.846434  60.126747   \n",
       "2    O1-17  2025-02-20 16:06:00      4.16000     4.258532  48.985622   \n",
       "3    O1-25  2025-02-20 16:15:00      4.86000     4.923015  68.788006   \n",
       "4     O1-9  2025-02-20 15:30:00      3.25500     4.610760  48.888886   \n",
       "\n",
       "   Sigma0_RATIO_VH_VV  Gamma0_RATIO_VH_VV  \n",
       "0            0.810841            0.801533  \n",
       "1            0.810891            0.801586  \n",
       "2            0.810909            0.801612  \n",
       "3            0.810925            0.801633  \n",
       "4            0.810869            0.801555  "
      ]
     },
     "execution_count": 1,
     "metadata": {},
     "output_type": "execute_result"
    }
   ],
   "source": [
    "from utils.model_prep import load_dataset\n",
    "data_path = '../../data/processed/SARCitric.csv'\n",
    "df = load_dataset(data_path)\n",
    "# Cambiar el nombre de una columna\n",
    "df = df.rename(columns={\"biomasa_total_m3_kg\": \"biomass\"})\n",
    "df.head()"
   ]
  },
  {
   "cell_type": "markdown",
   "id": "55c0945c",
   "metadata": {},
   "source": [
    "# 2 - Modeling\n",
    "## Lineal"
   ]
  },
  {
   "cell_type": "code",
   "execution_count": 2,
   "id": "5d7e84b3",
   "metadata": {},
   "outputs": [],
   "source": [
    "from utils.model_prep import select_xy, random_splits\n",
    "\n",
    "target_col = ['tree_height', 'canopy_diam', 'biomass']\n",
    "feature_cols = ['Sigma0_RATIO_VH_VV', 'Gamma0_RATIO_VH_VV']\n",
    "X, y = select_xy(df, target_col, feature_cols)\n",
    "num_features = list(X.columns)\n",
    "\n",
    "# Dividir en conjuntos de entrenamiento/validación\n",
    "splits = random_splits(X, y, val_size=0.3, random_state=42)\n",
    "(X_train, y_train) = splits[\"train\"]\n",
    "(X_val,   y_val)   = splits[\"val\"]"
   ]
  },
  {
   "cell_type": "code",
   "execution_count": 3,
   "id": "dc150d45",
   "metadata": {},
   "outputs": [
    {
     "name": "stdout",
     "output_type": "stream",
     "text": [
      "Ejecutando LR para: tree_height\n",
      "Resultados para tree_height: {'train': {'RMSE': 0.8316349452442439, 'MAE': 0.7163199285737488, 'R2': 0.15539351218728414, 'rRMSE(%)': 30.122800758965994}, 'val': {'RMSE': 0.9249952112902957, 'MAE': 0.7763487672883226, 'R2': 0.08919663580712123, 'rRMSE(%)': 33.15738348831116}}\n",
      "Ejecutando LR para: canopy_diam\n",
      "Resultados para canopy_diam: {'train': {'RMSE': 0.7883531938874485, 'MAE': 0.6483857104417027, 'R2': 0.09845064109481627, 'rRMSE(%)': 23.150391718722716}, 'val': {'RMSE': 1.0131042016658034, 'MAE': 0.7749977494864083, 'R2': 0.1621494843231298, 'rRMSE(%)': 29.968426692988814}}\n",
      "Ejecutando LR para: biomass\n",
      "Resultados para biomass: {'train': {'RMSE': 16.9159189768231, 'MAE': 13.99742386464722, 'R2': 0.14398351069209858, 'rRMSE(%)': 71.2122214931305}, 'val': {'RMSE': 19.262648248595724, 'MAE': 16.314296846189105, 'R2': 0.13051739816144425, 'rRMSE(%)': 77.23388217643567}}\n"
     ]
    },
    {
     "data": {
      "text/plain": [
       "<Figure size 640x480 with 0 Axes>"
      ]
     },
     "metadata": {},
     "output_type": "display_data"
    }
   ],
   "source": [
    "out_dir = '../../results/canopy/artifacts_linear'\n",
    "\n",
    "from models.linear import run_baseline_from_splits\n",
    "# Ejecutar el modelo lineal para cada variable\n",
    "for target in target_col:\n",
    "    print(f\"Ejecutando LR para: {target}\")\n",
    "    metrics_LR = run_baseline_from_splits(\n",
    "        X_train, y_train[target],\n",
    "        X_val, y_val[target],\n",
    "        target,\n",
    "        num_features,\n",
    "        model_type=\"ridge\",\n",
    "        alpha=1.0,\n",
    "        outdir=out_dir\n",
    "    )\n",
    "    print(f\"Resultados para {target}: {metrics_LR}\")"
   ]
  },
  {
   "cell_type": "code",
   "execution_count": null,
   "id": "dc73b916",
   "metadata": {},
   "outputs": [],
   "source": []
  }
 ],
 "metadata": {
  "kernelspec": {
   "display_name": "sar_env",
   "language": "python",
   "name": "python3"
  },
  "language_info": {
   "codemirror_mode": {
    "name": "ipython",
    "version": 3
   },
   "file_extension": ".py",
   "mimetype": "text/x-python",
   "name": "python",
   "nbconvert_exporter": "python",
   "pygments_lexer": "ipython3",
   "version": "3.13.5"
  }
 },
 "nbformat": 4,
 "nbformat_minor": 5
}
