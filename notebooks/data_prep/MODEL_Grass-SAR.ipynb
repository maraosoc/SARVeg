{
 "cells": [
  {
   "cell_type": "markdown",
   "id": "ba3f9d34",
   "metadata": {},
   "source": [
    "modelado (paramétrico, no paramétrico y ML) para estimar parámetros de la vegetación a partir de variables SAR\n",
    "\n",
    "**Objetivo (Y)**: estimar parámetros biofísicos de vegetación medidos en campo (biomasa, contenido de agua, indice de biomasa por altura IBA).\n",
    "\n",
    "**Predictores (X)**: derivados de SAR Sentinel‑1\n",
    "\n",
    "# 1- Carga y preparación de datos"
   ]
  },
  {
   "cell_type": "code",
   "execution_count": 1,
   "id": "aae742a1",
   "metadata": {},
   "outputs": [
    {
     "data": {
      "application/vnd.microsoft.datawrangler.viewer.v0+json": {
       "columns": [
        {
         "name": "index",
         "rawType": "int64",
         "type": "integer"
        },
        {
         "name": "id_point",
         "rawType": "object",
         "type": "string"
        },
        {
         "name": "datetime",
         "rawType": "object",
         "type": "string"
        },
        {
         "name": "VWC",
         "rawType": "float64",
         "type": "float"
        },
        {
         "name": "total_biomass",
         "rawType": "float64",
         "type": "float"
        },
        {
         "name": "IBA",
         "rawType": "float64",
         "type": "float"
        },
        {
         "name": "Sigma0_RATIO_VH_VV",
         "rawType": "float64",
         "type": "float"
        },
        {
         "name": "Gamma0_RATIO_VH_VV",
         "rawType": "float64",
         "type": "float"
        },
        {
         "name": "PC4",
         "rawType": "float64",
         "type": "float"
        },
        {
         "name": "Alpha",
         "rawType": "float64",
         "type": "float"
        }
       ],
       "ref": "c11b65f7-1bd8-4d1f-af97-7f31a01aca52",
       "rows": [
        [
         "0",
         "G1-1",
         "2025-02-19 11:11:00",
         "315.945035",
         "1263.78014",
         "1853.050058651026",
         "0.8097572724230725",
         "0.8004943180584561",
         "1.2227158724364926",
         "25.555786"
        ],
        [
         "1",
         "G1-13",
         "2025-02-19 11:48:00",
         "166.8966899999999",
         "667.5867599999998",
         "755.1886425339364",
         "0.8097953236871334",
         "0.8005401351781551",
         "1.2949599508848075",
         "30.238604"
        ],
        [
         "2",
         "G1-17",
         "2025-02-19 11:59:00",
         "152.69669",
         "610.78676",
         "690.9352488687782",
         "0.8098137835348392",
         "0.8005608529259344",
         "1.3094758884433106",
         "28.057308"
        ],
        [
         "3",
         "G1-25",
         "2025-02-19 12:17:00",
         "188.19669",
         "752.78676",
         "865.2721379310344",
         "0.8098515647778386",
         "0.800572258764344",
         "1.3615298767072304",
         "22.238356"
        ],
        [
         "4",
         "G1-9",
         "2025-02-19 11:30:00",
         "283.145035",
         "1132.58014",
         "1926.156700680272",
         "0.8097775803640075",
         "0.8005188816234302",
         "1.4620572030162178",
         "24.861599"
        ]
       ],
       "shape": {
        "columns": 9,
        "rows": 5
       }
      },
      "text/html": [
       "<div>\n",
       "<style scoped>\n",
       "    .dataframe tbody tr th:only-of-type {\n",
       "        vertical-align: middle;\n",
       "    }\n",
       "\n",
       "    .dataframe tbody tr th {\n",
       "        vertical-align: top;\n",
       "    }\n",
       "\n",
       "    .dataframe thead th {\n",
       "        text-align: right;\n",
       "    }\n",
       "</style>\n",
       "<table border=\"1\" class=\"dataframe\">\n",
       "  <thead>\n",
       "    <tr style=\"text-align: right;\">\n",
       "      <th></th>\n",
       "      <th>id_point</th>\n",
       "      <th>datetime</th>\n",
       "      <th>VWC</th>\n",
       "      <th>total_biomass</th>\n",
       "      <th>IBA</th>\n",
       "      <th>Sigma0_RATIO_VH_VV</th>\n",
       "      <th>Gamma0_RATIO_VH_VV</th>\n",
       "      <th>PC4</th>\n",
       "      <th>Alpha</th>\n",
       "    </tr>\n",
       "  </thead>\n",
       "  <tbody>\n",
       "    <tr>\n",
       "      <th>0</th>\n",
       "      <td>G1-1</td>\n",
       "      <td>2025-02-19 11:11:00</td>\n",
       "      <td>315.945035</td>\n",
       "      <td>1263.78014</td>\n",
       "      <td>1853.050059</td>\n",
       "      <td>0.809757</td>\n",
       "      <td>0.800494</td>\n",
       "      <td>1.222716</td>\n",
       "      <td>25.555786</td>\n",
       "    </tr>\n",
       "    <tr>\n",
       "      <th>1</th>\n",
       "      <td>G1-13</td>\n",
       "      <td>2025-02-19 11:48:00</td>\n",
       "      <td>166.896690</td>\n",
       "      <td>667.58676</td>\n",
       "      <td>755.188643</td>\n",
       "      <td>0.809795</td>\n",
       "      <td>0.800540</td>\n",
       "      <td>1.294960</td>\n",
       "      <td>30.238604</td>\n",
       "    </tr>\n",
       "    <tr>\n",
       "      <th>2</th>\n",
       "      <td>G1-17</td>\n",
       "      <td>2025-02-19 11:59:00</td>\n",
       "      <td>152.696690</td>\n",
       "      <td>610.78676</td>\n",
       "      <td>690.935249</td>\n",
       "      <td>0.809814</td>\n",
       "      <td>0.800561</td>\n",
       "      <td>1.309476</td>\n",
       "      <td>28.057308</td>\n",
       "    </tr>\n",
       "    <tr>\n",
       "      <th>3</th>\n",
       "      <td>G1-25</td>\n",
       "      <td>2025-02-19 12:17:00</td>\n",
       "      <td>188.196690</td>\n",
       "      <td>752.78676</td>\n",
       "      <td>865.272138</td>\n",
       "      <td>0.809852</td>\n",
       "      <td>0.800572</td>\n",
       "      <td>1.361530</td>\n",
       "      <td>22.238356</td>\n",
       "    </tr>\n",
       "    <tr>\n",
       "      <th>4</th>\n",
       "      <td>G1-9</td>\n",
       "      <td>2025-02-19 11:30:00</td>\n",
       "      <td>283.145035</td>\n",
       "      <td>1132.58014</td>\n",
       "      <td>1926.156701</td>\n",
       "      <td>0.809778</td>\n",
       "      <td>0.800519</td>\n",
       "      <td>1.462057</td>\n",
       "      <td>24.861599</td>\n",
       "    </tr>\n",
       "  </tbody>\n",
       "</table>\n",
       "</div>"
      ],
      "text/plain": [
       "  id_point             datetime         VWC  total_biomass          IBA  \\\n",
       "0     G1-1  2025-02-19 11:11:00  315.945035     1263.78014  1853.050059   \n",
       "1    G1-13  2025-02-19 11:48:00  166.896690      667.58676   755.188643   \n",
       "2    G1-17  2025-02-19 11:59:00  152.696690      610.78676   690.935249   \n",
       "3    G1-25  2025-02-19 12:17:00  188.196690      752.78676   865.272138   \n",
       "4     G1-9  2025-02-19 11:30:00  283.145035     1132.58014  1926.156701   \n",
       "\n",
       "   Sigma0_RATIO_VH_VV  Gamma0_RATIO_VH_VV       PC4      Alpha  \n",
       "0            0.809757            0.800494  1.222716  25.555786  \n",
       "1            0.809795            0.800540  1.294960  30.238604  \n",
       "2            0.809814            0.800561  1.309476  28.057308  \n",
       "3            0.809852            0.800572  1.361530  22.238356  \n",
       "4            0.809778            0.800519  1.462057  24.861599  "
      ]
     },
     "execution_count": 1,
     "metadata": {},
     "output_type": "execute_result"
    },
    {
     "data": {
      "text/plain": [
       "<Figure size 640x480 with 0 Axes>"
      ]
     },
     "metadata": {},
     "output_type": "display_data"
    }
   ],
   "source": [
    "# Cargar funcion almacenada en .py\n",
    "from os import sys\n",
    "# Añadir la ruta del directorio de funciones al path\n",
    "functions_dir = \"c:/Users/Usuario/OneDrive/20211021_Int_Datafusion/20240118_MSc_MR_Datafusion/Processing/Sentinel/functions\"\n",
    "sys.path.append(functions_dir)\n",
    "from baseline_linear import *\n",
    "\n",
    "# 1) Datos\n",
    "data_path = 'outputs/selected_variables_for_modeling.csv'\n",
    "df = load_dataset(data_path)\n",
    "df.head()"
   ]
  },
  {
   "cell_type": "markdown",
   "id": "9da1bd8d",
   "metadata": {},
   "source": [
    "# 2- Model baseline\n",
    "## Lineal"
   ]
  },
  {
   "cell_type": "code",
   "execution_count": 2,
   "id": "81dbfe7a",
   "metadata": {},
   "outputs": [],
   "source": [
    "# Definir las columnas de características y objetivo\n",
    "target_col = ['VWC', 'total_biomass', 'IBA']\n",
    "feature_cols = ['Sigma0_RATIO_VH_VV', 'Gamma0_RATIO_VH_VV', 'PC4', 'Alpha']\n",
    "X, y = select_xy(df, target_col, feature_cols)\n",
    "num_features = list(X.columns)\n",
    "\n",
    "# Dividir en conjuntos de prueba y validacion\n",
    "splits = random_splits(X, y, val_size=0.3, random_state=42)\n",
    "(X_train, y_train) = splits[\"train\"]\n",
    "(X_val,   y_val)   = splits[\"val\"]"
   ]
  },
  {
   "cell_type": "code",
   "execution_count": 6,
   "id": "06860e4c",
   "metadata": {},
   "outputs": [
    {
     "name": "stdout",
     "output_type": "stream",
     "text": [
      "Ejecutando LR para: VWC\n",
      "Resultados para VWC: {'train': {'RMSE': 97.23853675457148, 'MAE': 75.77603384945942, 'R2': 0.24734444898153196, 'rRMSE(%)': 42.646550162941246}, 'val': {'RMSE': 98.56567851142258, 'MAE': 83.30143823038335, 'R2': 0.09409565903495953, 'rRMSE(%)': 48.929878008130196}}\n",
      "Ejecutando LR para: total_biomass\n",
      "Resultados para total_biomass: {'train': {'RMSE': 388.9541470182859, 'MAE': 303.1041353978377, 'R2': 0.24734444898153207, 'rRMSE(%)': 42.64655016294124}, 'val': {'RMSE': 394.26271404569036, 'MAE': 333.2057529215335, 'R2': 0.09409565903495942, 'rRMSE(%)': 48.92987800813021}}\n",
      "Ejecutando LR para: IBA\n",
      "Resultados para IBA: {'train': {'RMSE': 1406.4941678956945, 'MAE': 952.4627345691537, 'R2': 0.36371793978272837, 'rRMSE(%)': 61.46970245606337}, 'val': {'RMSE': 1088.018326492343, 'MAE': 828.3224805358328, 'R2': -0.18890173871931126, 'rRMSE(%)': 62.4777988254457}}\n"
     ]
    }
   ],
   "source": [
    "out_dir = 'outputs/artifacts_linear_baseline'\n",
    "# Ejecutar el baseline lineal para cada target_col\n",
    "for target in target_col:\n",
    "    print(f\"Ejecutando LR para: {target}\")\n",
    "    metrics_LR = run_baseline_from_splits(\n",
    "        X_train, y_train[target],\n",
    "        X_val, y_val[target],\n",
    "        target,\n",
    "        num_features,\n",
    "        model_type=\"ridge\",\n",
    "        alpha=1.0,\n",
    "        outdir=out_dir\n",
    "    )\n",
    "    print(f\"Resultados para {target}: {metrics_LR}\")"
   ]
  },
  {
   "cell_type": "markdown",
   "id": "b667162a",
   "metadata": {},
   "source": [
    "## No paramétrico"
   ]
  },
  {
   "cell_type": "code",
   "execution_count": null,
   "id": "96efed6b",
   "metadata": {},
   "outputs": [
    {
     "ename": "SyntaxError",
     "evalue": "(unicode error) 'unicodeescape' codec can't decode bytes in position 84-85: truncated \\UXXXXXXXX escape (baseline_nonparam.py, line 296)",
     "output_type": "error",
     "traceback": [
      "Traceback \u001b[36m(most recent call last)\u001b[39m:\n",
      "  File \u001b[92mc:\\Users\\Usuario\\anaconda3\\envs\\sar_env\\Lib\\site-packages\\IPython\\core\\interactiveshell.py:3699\u001b[39m in \u001b[95mrun_code\u001b[39m\n    exec(code_obj, self.user_global_ns, self.user_ns)\n",
      "\u001b[36m  \u001b[39m\u001b[36mCell\u001b[39m\u001b[36m \u001b[39m\u001b[32mIn[5]\u001b[39m\u001b[32m, line 5\u001b[39m\n\u001b[31m    \u001b[39m\u001b[31mfrom baseline_nonparam import ensure_outdir\u001b[39m\n",
      "  \u001b[36mFile \u001b[39m\u001b[32mc:\\Users/Usuario/OneDrive/20211021_Int_Datafusion/20240118_MSc_MR_Datafusion/Processing/Sentinel/functions\\baseline_nonparam.py:296\u001b[39m\n\u001b[31m    \u001b[39m\u001b[31m\"\"\"\u001b[39m\n    ^\n\u001b[31mSyntaxError\u001b[39m\u001b[31m:\u001b[39m (unicode error) 'unicodeescape' codec can't decode bytes in position 84-85: truncated \\UXXXXXXXX escape\n"
     ]
    }
   ],
   "source": [
    "functions_dir = r\"c:/Users/Usuario/OneDrive/20211021_Int_Datafusion/20240118_MSc_MR_Datafusion/Processing/Sentinel/functions\"\n",
    "if functions_dir not in sys.path:\n",
    "\tsys.path.append(functions_dir)\n",
    "\n",
    "from baseline_nonparam import *\n",
    "import numpy as np\n",
    "# Define el ancho de banda\n",
    "bandwidth_grid = np.logspace(-3, 1, 50) # para total_biomass\n",
    "out_dir = 'outputs/artifacts_nadaraya_watson_baseline'\n",
    "out_dir = ensure_outdir(out_dir)"
   ]
  },
  {
   "cell_type": "code",
   "execution_count": null,
   "id": "49ac8f69",
   "metadata": {},
   "outputs": [],
   "source": [
    "# Ejecutar el baseline Nadaraya-Watson para cada target_col\n",
    "for target in target_col:\n",
    "    print(f\"Ejecutando NW para {target}\")\n",
    "    metrics_nw = run_nw_from_splits(\n",
    "        X_train, y_train[target],\n",
    "        X_val, y_val[target],\n",
    "        target_col=target,\n",
    "        num_features=num_features,\n",
    "        bandwidth_grid=bandwidth_grid,\n",
    "        reg_type=\"lc\",\n",
    "        outdir=out_dir\n",
    "    )\n",
    "    print(f'Metricas Nadaraya-Watson para {target}: {metrics_nw}')"
   ]
  },
  {
   "cell_type": "markdown",
   "id": "bbc2acd4",
   "metadata": {},
   "source": [
    "## Random Forest"
   ]
  },
  {
   "cell_type": "code",
   "execution_count": 8,
   "id": "c7de16c1",
   "metadata": {},
   "outputs": [
    {
     "name": "stdout",
     "output_type": "stream",
     "text": [
      "Ejecutando RF para t\n"
     ]
    },
    {
     "ename": "KeyError",
     "evalue": "'t'",
     "output_type": "error",
     "traceback": [
      "\u001b[31m---------------------------------------------------------------------------\u001b[39m",
      "\u001b[31mKeyError\u001b[39m                                  Traceback (most recent call last)",
      "\u001b[36mFile \u001b[39m\u001b[32mc:\\Users\\Usuario\\anaconda3\\envs\\sar_env\\Lib\\site-packages\\pandas\\core\\indexes\\base.py:3812\u001b[39m, in \u001b[36mIndex.get_loc\u001b[39m\u001b[34m(self, key)\u001b[39m\n\u001b[32m   3811\u001b[39m \u001b[38;5;28;01mtry\u001b[39;00m:\n\u001b[32m-> \u001b[39m\u001b[32m3812\u001b[39m     \u001b[38;5;28;01mreturn\u001b[39;00m \u001b[38;5;28;43mself\u001b[39;49m\u001b[43m.\u001b[49m\u001b[43m_engine\u001b[49m\u001b[43m.\u001b[49m\u001b[43mget_loc\u001b[49m\u001b[43m(\u001b[49m\u001b[43mcasted_key\u001b[49m\u001b[43m)\u001b[49m\n\u001b[32m   3813\u001b[39m \u001b[38;5;28;01mexcept\u001b[39;00m \u001b[38;5;167;01mKeyError\u001b[39;00m \u001b[38;5;28;01mas\u001b[39;00m err:\n",
      "\u001b[36mFile \u001b[39m\u001b[32mindex.pyx:167\u001b[39m, in \u001b[36mpandas._libs.index.IndexEngine.get_loc\u001b[39m\u001b[34m()\u001b[39m\n",
      "\u001b[36mFile \u001b[39m\u001b[32mindex.pyx:175\u001b[39m, in \u001b[36mpandas._libs.index.IndexEngine.get_loc\u001b[39m\u001b[34m()\u001b[39m\n",
      "\u001b[36mFile \u001b[39m\u001b[32mpandas\\\\_libs\\\\index_class_helper.pxi:70\u001b[39m, in \u001b[36mpandas._libs.index.Int64Engine._check_type\u001b[39m\u001b[34m()\u001b[39m\n",
      "\u001b[31mKeyError\u001b[39m: 't'",
      "\nThe above exception was the direct cause of the following exception:\n",
      "\u001b[31mKeyError\u001b[39m                                  Traceback (most recent call last)",
      "\u001b[36mCell\u001b[39m\u001b[36m \u001b[39m\u001b[32mIn[8]\u001b[39m\u001b[32m, line 17\u001b[39m\n\u001b[32m     13\u001b[39m \u001b[38;5;28;01mfor\u001b[39;00m target \u001b[38;5;129;01min\u001b[39;00m target_col:\n\u001b[32m     14\u001b[39m     \u001b[38;5;28mprint\u001b[39m(\u001b[33mf\u001b[39m\u001b[33m\"\u001b[39m\u001b[33mEjecutando RF para \u001b[39m\u001b[38;5;132;01m{\u001b[39;00mtarget\u001b[38;5;132;01m}\u001b[39;00m\u001b[33m\"\u001b[39m)\n\u001b[32m     15\u001b[39m     metrics_rf = run_rf_from_splits(\n\u001b[32m     16\u001b[39m         X_train=X_train, \n\u001b[32m---> \u001b[39m\u001b[32m17\u001b[39m         y_train=\u001b[43my_train\u001b[49m\u001b[43m[\u001b[49m\u001b[43mtarget\u001b[49m\u001b[43m]\u001b[49m,\n\u001b[32m     18\u001b[39m         X_val=X_val, \n\u001b[32m     19\u001b[39m         y_val=y_val[target],\n\u001b[32m     20\u001b[39m         target_col=target,\n\u001b[32m     21\u001b[39m         param_dist=param_dist,\n\u001b[32m     22\u001b[39m         num_features=num_features,\n\u001b[32m     23\u001b[39m         outdir=out_dir\n\u001b[32m     24\u001b[39m     )\n\u001b[32m     25\u001b[39m     \u001b[38;5;28mprint\u001b[39m(\u001b[33mf\u001b[39m\u001b[33m'\u001b[39m\u001b[33mMetricas Random Forest para \u001b[39m\u001b[38;5;132;01m{\u001b[39;00mtarget\u001b[38;5;132;01m}\u001b[39;00m\u001b[33m: \u001b[39m\u001b[38;5;132;01m{\u001b[39;00mmetrics_rf\u001b[38;5;132;01m}\u001b[39;00m\u001b[33m'\u001b[39m)\n",
      "\u001b[36mFile \u001b[39m\u001b[32mc:\\Users\\Usuario\\anaconda3\\envs\\sar_env\\Lib\\site-packages\\pandas\\core\\series.py:1130\u001b[39m, in \u001b[36mSeries.__getitem__\u001b[39m\u001b[34m(self, key)\u001b[39m\n\u001b[32m   1127\u001b[39m     \u001b[38;5;28;01mreturn\u001b[39;00m \u001b[38;5;28mself\u001b[39m._values[key]\n\u001b[32m   1129\u001b[39m \u001b[38;5;28;01melif\u001b[39;00m key_is_scalar:\n\u001b[32m-> \u001b[39m\u001b[32m1130\u001b[39m     \u001b[38;5;28;01mreturn\u001b[39;00m \u001b[38;5;28;43mself\u001b[39;49m\u001b[43m.\u001b[49m\u001b[43m_get_value\u001b[49m\u001b[43m(\u001b[49m\u001b[43mkey\u001b[49m\u001b[43m)\u001b[49m\n\u001b[32m   1132\u001b[39m \u001b[38;5;66;03m# Convert generator to list before going through hashable part\u001b[39;00m\n\u001b[32m   1133\u001b[39m \u001b[38;5;66;03m# (We will iterate through the generator there to check for slices)\u001b[39;00m\n\u001b[32m   1134\u001b[39m \u001b[38;5;28;01mif\u001b[39;00m is_iterator(key):\n",
      "\u001b[36mFile \u001b[39m\u001b[32mc:\\Users\\Usuario\\anaconda3\\envs\\sar_env\\Lib\\site-packages\\pandas\\core\\series.py:1246\u001b[39m, in \u001b[36mSeries._get_value\u001b[39m\u001b[34m(self, label, takeable)\u001b[39m\n\u001b[32m   1243\u001b[39m     \u001b[38;5;28;01mreturn\u001b[39;00m \u001b[38;5;28mself\u001b[39m._values[label]\n\u001b[32m   1245\u001b[39m \u001b[38;5;66;03m# Similar to Index.get_value, but we do not fall back to positional\u001b[39;00m\n\u001b[32m-> \u001b[39m\u001b[32m1246\u001b[39m loc = \u001b[38;5;28;43mself\u001b[39;49m\u001b[43m.\u001b[49m\u001b[43mindex\u001b[49m\u001b[43m.\u001b[49m\u001b[43mget_loc\u001b[49m\u001b[43m(\u001b[49m\u001b[43mlabel\u001b[49m\u001b[43m)\u001b[49m\n\u001b[32m   1248\u001b[39m \u001b[38;5;28;01mif\u001b[39;00m is_integer(loc):\n\u001b[32m   1249\u001b[39m     \u001b[38;5;28;01mreturn\u001b[39;00m \u001b[38;5;28mself\u001b[39m._values[loc]\n",
      "\u001b[36mFile \u001b[39m\u001b[32mc:\\Users\\Usuario\\anaconda3\\envs\\sar_env\\Lib\\site-packages\\pandas\\core\\indexes\\base.py:3819\u001b[39m, in \u001b[36mIndex.get_loc\u001b[39m\u001b[34m(self, key)\u001b[39m\n\u001b[32m   3814\u001b[39m     \u001b[38;5;28;01mif\u001b[39;00m \u001b[38;5;28misinstance\u001b[39m(casted_key, \u001b[38;5;28mslice\u001b[39m) \u001b[38;5;129;01mor\u001b[39;00m (\n\u001b[32m   3815\u001b[39m         \u001b[38;5;28misinstance\u001b[39m(casted_key, abc.Iterable)\n\u001b[32m   3816\u001b[39m         \u001b[38;5;129;01mand\u001b[39;00m \u001b[38;5;28many\u001b[39m(\u001b[38;5;28misinstance\u001b[39m(x, \u001b[38;5;28mslice\u001b[39m) \u001b[38;5;28;01mfor\u001b[39;00m x \u001b[38;5;129;01min\u001b[39;00m casted_key)\n\u001b[32m   3817\u001b[39m     ):\n\u001b[32m   3818\u001b[39m         \u001b[38;5;28;01mraise\u001b[39;00m InvalidIndexError(key)\n\u001b[32m-> \u001b[39m\u001b[32m3819\u001b[39m     \u001b[38;5;28;01mraise\u001b[39;00m \u001b[38;5;167;01mKeyError\u001b[39;00m(key) \u001b[38;5;28;01mfrom\u001b[39;00m\u001b[38;5;250m \u001b[39m\u001b[34;01merr\u001b[39;00m\n\u001b[32m   3820\u001b[39m \u001b[38;5;28;01mexcept\u001b[39;00m \u001b[38;5;167;01mTypeError\u001b[39;00m:\n\u001b[32m   3821\u001b[39m     \u001b[38;5;66;03m# If we have a listlike key, _check_indexing_error will raise\u001b[39;00m\n\u001b[32m   3822\u001b[39m     \u001b[38;5;66;03m#  InvalidIndexError. Otherwise we fall through and re-raise\u001b[39;00m\n\u001b[32m   3823\u001b[39m     \u001b[38;5;66;03m#  the TypeError.\u001b[39;00m\n\u001b[32m   3824\u001b[39m     \u001b[38;5;28mself\u001b[39m._check_indexing_error(key)\n",
      "\u001b[31mKeyError\u001b[39m: 't'"
     ]
    }
   ],
   "source": [
    "from baseline_random_forest import *\n",
    "out_dir = 'outputs/artifacts_random_forest_baseline'\n",
    "\n",
    "param_dist = {\n",
    "    \"n_estimators\": np.arange(100, 1500, 100),  # Puedes probar desde 100 hasta 1500 árboles\n",
    "    \"max_depth\": [None, 10, 20, 30, 40, 50],  # Profundidad del árbol\n",
    "    \"min_samples_split\": np.arange(2, 21, 2),  # Mínimo de muestras para dividir un nodo\n",
    "    \"min_samples_leaf\": np.arange(1, 21, 2),  # Mínimo de muestras para ser hoja\n",
    "    \"max_features\": [\"auto\", \"sqrt\", \"log2\"],  # Número de features a probar\n",
    "    \"bootstrap\": [True, False]  # Usar muestras con reemplazo o no\n",
    "}\n",
    "\n",
    "for target in target_col:\n",
    "    print(f\"Ejecutando RF para {target}\")\n",
    "    metrics_rf = run_rf_from_splits(\n",
    "        X_train=X_train, \n",
    "        y_train=y_train[target],\n",
    "        X_val=X_val, \n",
    "        y_val=y_val[target],\n",
    "        target_col=target,\n",
    "        param_dist=param_dist,\n",
    "        num_features=num_features,\n",
    "        outdir=out_dir\n",
    "    )\n",
    "    print(f'Metricas Random Forest para {target}: {metrics_rf}')"
   ]
  },
  {
   "cell_type": "markdown",
   "id": "5e3f75e4",
   "metadata": {},
   "source": [
    "## LightGBM"
   ]
  },
  {
   "cell_type": "code",
   "execution_count": null,
   "id": "787cb478",
   "metadata": {},
   "outputs": [],
   "source": []
  },
  {
   "cell_type": "markdown",
   "id": "05717363",
   "metadata": {},
   "source": [
    "# 3- Optimización de hiperparámetros"
   ]
  },
  {
   "cell_type": "markdown",
   "id": "add4a12b",
   "metadata": {},
   "source": [
    "# 4- Incertitumbre\n",
    "Intervalos de predicción:\n",
    "\n",
    "RF: Quantile Regression Forest (q=0.1/0.9).\n",
    "\n",
    "LGBM: objetivo quantile o conformal prediction (CV+residuales).\n",
    "\n",
    "Robustez: bootstrapping por bloque (parcela) y análisis de shift (distribuciones de X entrenamiento vs. test).\n",
    "\n",
    "Sensibilidad: ablation study eliminando familias de variables (texturas, geometría, ratios) y comparando ΔRMSE."
   ]
  },
  {
   "cell_type": "markdown",
   "id": "3b221436",
   "metadata": {},
   "source": [
    "# 5- Metricas y reporte"
   ]
  },
  {
   "cell_type": "markdown",
   "id": "748fd4b3",
   "metadata": {},
   "source": []
  }
 ],
 "metadata": {
  "kernelspec": {
   "display_name": "sar_env",
   "language": "python",
   "name": "python3"
  },
  "language_info": {
   "codemirror_mode": {
    "name": "ipython",
    "version": 3
   },
   "file_extension": ".py",
   "mimetype": "text/x-python",
   "name": "python",
   "nbconvert_exporter": "python",
   "pygments_lexer": "ipython3",
   "version": "3.13.5"
  }
 },
 "nbformat": 4,
 "nbformat_minor": 5
}
