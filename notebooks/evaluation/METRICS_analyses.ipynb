{
 "cells": [
  {
   "cell_type": "markdown",
   "id": "4fc2cd7a",
   "metadata": {},
   "source": [
    "# Analisis de las métricas de los modelos para las variables vegetativas\n",
    "## Grass"
   ]
  },
  {
   "cell_type": "code",
   "execution_count": 1,
   "id": "11947bf0",
   "metadata": {},
   "outputs": [
    {
     "data": {
      "application/vnd.microsoft.datawrangler.viewer.v0+json": {
       "columns": [
        {
         "name": "index",
         "rawType": "int64",
         "type": "integer"
        },
        {
         "name": "model",
         "rawType": "object",
         "type": "string"
        },
        {
         "name": "target",
         "rawType": "object",
         "type": "string"
        },
        {
         "name": "metric",
         "rawType": "object",
         "type": "string"
        },
        {
         "name": "set",
         "rawType": "object",
         "type": "string"
        },
        {
         "name": "value",
         "rawType": "float64",
         "type": "float"
        }
       ],
       "ref": "8c385f2b-8e0c-4f19-be62-c7d2fe48da1a",
       "rows": [
        [
         "0",
         "Linear Regression",
         "IBA",
         "RMSE",
         "train",
         "1406.4941678956948"
        ],
        [
         "1",
         "Linear Regression",
         "IBA",
         "RMSE",
         "val",
         "1088.0183264923426"
        ],
        [
         "2",
         "Linear Regression",
         "IBA",
         "MAE",
         "train",
         "952.4627345691532"
        ],
        [
         "3",
         "Linear Regression",
         "IBA",
         "MAE",
         "val",
         "828.3224805358325"
        ],
        [
         "4",
         "Linear Regression",
         "IBA",
         "R2",
         "train",
         "0.3637179397827282"
        ]
       ],
       "shape": {
        "columns": 5,
        "rows": 5
       }
      },
      "text/html": [
       "<div>\n",
       "<style scoped>\n",
       "    .dataframe tbody tr th:only-of-type {\n",
       "        vertical-align: middle;\n",
       "    }\n",
       "\n",
       "    .dataframe tbody tr th {\n",
       "        vertical-align: top;\n",
       "    }\n",
       "\n",
       "    .dataframe thead th {\n",
       "        text-align: right;\n",
       "    }\n",
       "</style>\n",
       "<table border=\"1\" class=\"dataframe\">\n",
       "  <thead>\n",
       "    <tr style=\"text-align: right;\">\n",
       "      <th></th>\n",
       "      <th>model</th>\n",
       "      <th>target</th>\n",
       "      <th>metric</th>\n",
       "      <th>set</th>\n",
       "      <th>value</th>\n",
       "    </tr>\n",
       "  </thead>\n",
       "  <tbody>\n",
       "    <tr>\n",
       "      <th>0</th>\n",
       "      <td>Linear Regression</td>\n",
       "      <td>IBA</td>\n",
       "      <td>RMSE</td>\n",
       "      <td>train</td>\n",
       "      <td>1406.494168</td>\n",
       "    </tr>\n",
       "    <tr>\n",
       "      <th>1</th>\n",
       "      <td>Linear Regression</td>\n",
       "      <td>IBA</td>\n",
       "      <td>RMSE</td>\n",
       "      <td>val</td>\n",
       "      <td>1088.018326</td>\n",
       "    </tr>\n",
       "    <tr>\n",
       "      <th>2</th>\n",
       "      <td>Linear Regression</td>\n",
       "      <td>IBA</td>\n",
       "      <td>MAE</td>\n",
       "      <td>train</td>\n",
       "      <td>952.462735</td>\n",
       "    </tr>\n",
       "    <tr>\n",
       "      <th>3</th>\n",
       "      <td>Linear Regression</td>\n",
       "      <td>IBA</td>\n",
       "      <td>MAE</td>\n",
       "      <td>val</td>\n",
       "      <td>828.322481</td>\n",
       "    </tr>\n",
       "    <tr>\n",
       "      <th>4</th>\n",
       "      <td>Linear Regression</td>\n",
       "      <td>IBA</td>\n",
       "      <td>R2</td>\n",
       "      <td>train</td>\n",
       "      <td>0.363718</td>\n",
       "    </tr>\n",
       "  </tbody>\n",
       "</table>\n",
       "</div>"
      ],
      "text/plain": [
       "               model target metric    set        value\n",
       "0  Linear Regression    IBA   RMSE  train  1406.494168\n",
       "1  Linear Regression    IBA   RMSE    val  1088.018326\n",
       "2  Linear Regression    IBA    MAE  train   952.462735\n",
       "3  Linear Regression    IBA    MAE    val   828.322481\n",
       "4  Linear Regression    IBA     R2  train     0.363718"
      ]
     },
     "execution_count": 1,
     "metadata": {},
     "output_type": "execute_result"
    },
    {
     "data": {
      "text/plain": [
       "<Figure size 640x480 with 0 Axes>"
      ]
     },
     "metadata": {},
     "output_type": "display_data"
    }
   ],
   "source": [
    "# Extraer las métricas de las evaluaciones de los modelos\n",
    "from utils.evaluation import gather_model_metrics\n",
    "\n",
    "base_dir = '../../results/grass'\n",
    "grass_variables = ['VWC', 'total_biomass', 'IBA']\n",
    "\n",
    "metrics_grass = gather_model_metrics(base_dir, grass_variables, model_folders=None)\n",
    "# Cambiar las filas de 'target' = 'total_biomass' a 'biomass'\n",
    "metrics_grass['target'] = metrics_grass['target'].replace('total_biomass', 'biomass')\n",
    "metrics_grass.head()"
   ]
  },
  {
   "cell_type": "code",
   "execution_count": null,
   "id": "f0298bfa",
   "metadata": {},
   "outputs": [
    {
     "data": {
      "application/vnd.microsoft.datawrangler.viewer.v0+json": {
       "columns": [
        {
         "name": "index",
         "rawType": "int64",
         "type": "integer"
        },
        {
         "name": "Model",
         "rawType": "object",
         "type": "string"
        },
        {
         "name": "Target",
         "rawType": "object",
         "type": "string"
        },
        {
         "name": "MAE (train)",
         "rawType": "float64",
         "type": "float"
        },
        {
         "name": "MAE (val)",
         "rawType": "float64",
         "type": "float"
        },
        {
         "name": "R2 (train)",
         "rawType": "float64",
         "type": "float"
        },
        {
         "name": "R2 (val)",
         "rawType": "float64",
         "type": "float"
        },
        {
         "name": "rRMSE% (train)",
         "rawType": "float64",
         "type": "float"
        },
        {
         "name": "rRMSE% (val)",
         "rawType": "float64",
         "type": "float"
        }
       ],
       "ref": "db1c5222-c079-4c17-8e37-57da6d54c317",
       "rows": [
        [
         "0",
         "LightGBM",
         "IBA",
         "615.07",
         "716.51",
         "0.69",
         "0.08",
         "42.66",
         "54.96"
        ],
        [
         "1",
         "LightGBM",
         "VWC",
         "48.78",
         "70.44",
         "0.68",
         "0.37",
         "27.82",
         "40.83"
        ],
        [
         "2",
         "LightGBM",
         "biomass",
         "195.14",
         "281.77",
         "0.68",
         "0.37",
         "27.82",
         "40.83"
        ],
        [
         "3",
         "Linear Regression",
         "IBA",
         "952.46",
         "828.32",
         "0.36",
         "-0.19",
         "61.47",
         "62.48"
        ],
        [
         "4",
         "Linear Regression",
         "VWC",
         "75.78",
         "83.3",
         "0.25",
         "0.09",
         "42.65",
         "48.93"
        ]
       ],
       "shape": {
        "columns": 8,
        "rows": 5
       }
      },
      "text/html": [
       "<div>\n",
       "<style scoped>\n",
       "    .dataframe tbody tr th:only-of-type {\n",
       "        vertical-align: middle;\n",
       "    }\n",
       "\n",
       "    .dataframe tbody tr th {\n",
       "        vertical-align: top;\n",
       "    }\n",
       "\n",
       "    .dataframe thead th {\n",
       "        text-align: right;\n",
       "    }\n",
       "</style>\n",
       "<table border=\"1\" class=\"dataframe\">\n",
       "  <thead>\n",
       "    <tr style=\"text-align: right;\">\n",
       "      <th></th>\n",
       "      <th>Model</th>\n",
       "      <th>Target</th>\n",
       "      <th>MAE (train)</th>\n",
       "      <th>MAE (val)</th>\n",
       "      <th>R2 (train)</th>\n",
       "      <th>R2 (val)</th>\n",
       "      <th>rRMSE% (train)</th>\n",
       "      <th>rRMSE% (val)</th>\n",
       "    </tr>\n",
       "  </thead>\n",
       "  <tbody>\n",
       "    <tr>\n",
       "      <th>0</th>\n",
       "      <td>LightGBM</td>\n",
       "      <td>IBA</td>\n",
       "      <td>615.07</td>\n",
       "      <td>716.51</td>\n",
       "      <td>0.69</td>\n",
       "      <td>0.08</td>\n",
       "      <td>42.66</td>\n",
       "      <td>54.96</td>\n",
       "    </tr>\n",
       "    <tr>\n",
       "      <th>1</th>\n",
       "      <td>LightGBM</td>\n",
       "      <td>VWC</td>\n",
       "      <td>48.78</td>\n",
       "      <td>70.44</td>\n",
       "      <td>0.68</td>\n",
       "      <td>0.37</td>\n",
       "      <td>27.82</td>\n",
       "      <td>40.83</td>\n",
       "    </tr>\n",
       "    <tr>\n",
       "      <th>2</th>\n",
       "      <td>LightGBM</td>\n",
       "      <td>biomass</td>\n",
       "      <td>195.14</td>\n",
       "      <td>281.77</td>\n",
       "      <td>0.68</td>\n",
       "      <td>0.37</td>\n",
       "      <td>27.82</td>\n",
       "      <td>40.83</td>\n",
       "    </tr>\n",
       "    <tr>\n",
       "      <th>3</th>\n",
       "      <td>Linear Regression</td>\n",
       "      <td>IBA</td>\n",
       "      <td>952.46</td>\n",
       "      <td>828.32</td>\n",
       "      <td>0.36</td>\n",
       "      <td>-0.19</td>\n",
       "      <td>61.47</td>\n",
       "      <td>62.48</td>\n",
       "    </tr>\n",
       "    <tr>\n",
       "      <th>4</th>\n",
       "      <td>Linear Regression</td>\n",
       "      <td>VWC</td>\n",
       "      <td>75.78</td>\n",
       "      <td>83.30</td>\n",
       "      <td>0.25</td>\n",
       "      <td>0.09</td>\n",
       "      <td>42.65</td>\n",
       "      <td>48.93</td>\n",
       "    </tr>\n",
       "  </tbody>\n",
       "</table>\n",
       "</div>"
      ],
      "text/plain": [
       "               Model   Target  MAE (train)  MAE (val)  R2 (train)  R2 (val)  \\\n",
       "0           LightGBM      IBA       615.07     716.51        0.69      0.08   \n",
       "1           LightGBM      VWC        48.78      70.44        0.68      0.37   \n",
       "2           LightGBM  biomass       195.14     281.77        0.68      0.37   \n",
       "3  Linear Regression      IBA       952.46     828.32        0.36     -0.19   \n",
       "4  Linear Regression      VWC        75.78      83.30        0.25      0.09   \n",
       "\n",
       "   rRMSE% (train)  rRMSE% (val)  \n",
       "0           42.66         54.96  \n",
       "1           27.82         40.83  \n",
       "2           27.82         40.83  \n",
       "3           61.47         62.48  \n",
       "4           42.65         48.93  "
      ]
     },
     "execution_count": 2,
     "metadata": {},
     "output_type": "execute_result"
    }
   ],
   "source": [
    "# Crear la tabla organizada de metricas\n",
    "from utils.evaluation import create_metrics_table\n",
    "grass_pivot = create_metrics_table(metrics_grass, export_to_latex=True, filepath='../../results/grass/latex_metrics_grass.txt')\n",
    ".head()"
   ]
  },
  {
   "cell_type": "code",
   "execution_count": 11,
   "id": "1fc96c99",
   "metadata": {},
   "outputs": [
    {
     "data": {
      "application/vnd.microsoft.datawrangler.viewer.v0+json": {
       "columns": [
        {
         "name": "Model",
         "rawType": "object",
         "type": "string"
        },
        {
         "name": "MAE (train)",
         "rawType": "float64",
         "type": "float"
        },
        {
         "name": "MAE (val)",
         "rawType": "float64",
         "type": "float"
        },
        {
         "name": "R2 (train)",
         "rawType": "float64",
         "type": "float"
        },
        {
         "name": "R2 (val)",
         "rawType": "float64",
         "type": "float"
        },
        {
         "name": "rRMSE% (train)",
         "rawType": "float64",
         "type": "float"
        },
        {
         "name": "rRMSE% (val)",
         "rawType": "float64",
         "type": "float"
        }
       ],
       "ref": "ced1ce95-5349-41eb-835c-cc4685e481ce",
       "rows": [
        [
         "LightGBM",
         "286.33",
         "356.24",
         "0.68",
         "0.27",
         "32.77",
         "45.54"
        ],
        [
         "Linear Regression",
         "443.78",
         "414.94",
         "0.29",
         "-0.0",
         "48.92",
         "53.45"
        ],
        [
         "Nadaraya-Watson",
         "389.19",
         "383.61",
         "0.44",
         "0.16",
         "44.23",
         "48.85"
        ],
        [
         "Random Forest",
         "354.91",
         "350.87",
         "0.56",
         "0.26",
         "39.62",
         "46.09"
        ]
       ],
       "shape": {
        "columns": 6,
        "rows": 4
       }
      },
      "text/html": [
       "<div>\n",
       "<style scoped>\n",
       "    .dataframe tbody tr th:only-of-type {\n",
       "        vertical-align: middle;\n",
       "    }\n",
       "\n",
       "    .dataframe tbody tr th {\n",
       "        vertical-align: top;\n",
       "    }\n",
       "\n",
       "    .dataframe thead th {\n",
       "        text-align: right;\n",
       "    }\n",
       "</style>\n",
       "<table border=\"1\" class=\"dataframe\">\n",
       "  <thead>\n",
       "    <tr style=\"text-align: right;\">\n",
       "      <th></th>\n",
       "      <th>MAE (train)</th>\n",
       "      <th>MAE (val)</th>\n",
       "      <th>R2 (train)</th>\n",
       "      <th>R2 (val)</th>\n",
       "      <th>rRMSE% (train)</th>\n",
       "      <th>rRMSE% (val)</th>\n",
       "    </tr>\n",
       "    <tr>\n",
       "      <th>Model</th>\n",
       "      <th></th>\n",
       "      <th></th>\n",
       "      <th></th>\n",
       "      <th></th>\n",
       "      <th></th>\n",
       "      <th></th>\n",
       "    </tr>\n",
       "  </thead>\n",
       "  <tbody>\n",
       "    <tr>\n",
       "      <th>LightGBM</th>\n",
       "      <td>286.33</td>\n",
       "      <td>356.24</td>\n",
       "      <td>0.68</td>\n",
       "      <td>0.27</td>\n",
       "      <td>32.77</td>\n",
       "      <td>45.54</td>\n",
       "    </tr>\n",
       "    <tr>\n",
       "      <th>Linear Regression</th>\n",
       "      <td>443.78</td>\n",
       "      <td>414.94</td>\n",
       "      <td>0.29</td>\n",
       "      <td>-0.00</td>\n",
       "      <td>48.92</td>\n",
       "      <td>53.45</td>\n",
       "    </tr>\n",
       "    <tr>\n",
       "      <th>Nadaraya-Watson</th>\n",
       "      <td>389.19</td>\n",
       "      <td>383.61</td>\n",
       "      <td>0.44</td>\n",
       "      <td>0.16</td>\n",
       "      <td>44.23</td>\n",
       "      <td>48.85</td>\n",
       "    </tr>\n",
       "    <tr>\n",
       "      <th>Random Forest</th>\n",
       "      <td>354.91</td>\n",
       "      <td>350.87</td>\n",
       "      <td>0.56</td>\n",
       "      <td>0.26</td>\n",
       "      <td>39.62</td>\n",
       "      <td>46.09</td>\n",
       "    </tr>\n",
       "  </tbody>\n",
       "</table>\n",
       "</div>"
      ],
      "text/plain": [
       "                   MAE (train)  MAE (val)  R2 (train)  R2 (val)  \\\n",
       "Model                                                             \n",
       "LightGBM                286.33     356.24        0.68      0.27   \n",
       "Linear Regression       443.78     414.94        0.29     -0.00   \n",
       "Nadaraya-Watson         389.19     383.61        0.44      0.16   \n",
       "Random Forest           354.91     350.87        0.56      0.26   \n",
       "\n",
       "                   rRMSE% (train)  rRMSE% (val)  \n",
       "Model                                            \n",
       "LightGBM                    32.77         45.54  \n",
       "Linear Regression           48.92         53.45  \n",
       "Nadaraya-Watson             44.23         48.85  \n",
       "Random Forest               39.62         46.09  "
      ]
     },
     "execution_count": 11,
     "metadata": {},
     "output_type": "execute_result"
    }
   ],
   "source": [
    "# Obtener el promedio por modelo y excluir la columna 'Target'\n",
    "mean_metrics = grass_pivot.drop(columns=['Target'])\n",
    "mean_metrics = mean_metrics.groupby('Model').mean()\n",
    "# Redondear a dos decimales\n",
    "mean_metrics = mean_metrics.round(2)\n",
    "mean_metrics\n"
   ]
  },
  {
   "cell_type": "code",
   "execution_count": 4,
   "id": "c26850f1",
   "metadata": {},
   "outputs": [
    {
     "data": {
      "application/vnd.microsoft.datawrangler.viewer.v0+json": {
       "columns": [
        {
         "name": "index",
         "rawType": "int64",
         "type": "integer"
        },
        {
         "name": "Model",
         "rawType": "object",
         "type": "string"
        },
        {
         "name": "Target",
         "rawType": "object",
         "type": "string"
        },
        {
         "name": "MAE (train)",
         "rawType": "float64",
         "type": "float"
        },
        {
         "name": "MAE (val)",
         "rawType": "float64",
         "type": "float"
        },
        {
         "name": "R2 (train)",
         "rawType": "float64",
         "type": "float"
        },
        {
         "name": "R2 (val)",
         "rawType": "float64",
         "type": "float"
        },
        {
         "name": "rRMSE% (train)",
         "rawType": "float64",
         "type": "float"
        },
        {
         "name": "rRMSE% (val)",
         "rawType": "float64",
         "type": "float"
        }
       ],
       "ref": "e5b0a31b-fc90-4dd0-8f54-afea1510ba01",
       "rows": [
        [
         "0",
         "LightGBM",
         "IBA",
         "615.07",
         "716.51",
         "0.69",
         "0.08",
         "42.66",
         "54.96"
        ],
        [
         "1",
         "LightGBM",
         "VWC",
         "48.78",
         "70.44",
         "0.68",
         "0.37",
         "27.82",
         "40.83"
        ],
        [
         "2",
         "LightGBM",
         "biomass",
         "195.14",
         "281.77",
         "0.68",
         "0.37",
         "27.82",
         "40.83"
        ]
       ],
       "shape": {
        "columns": 8,
        "rows": 3
       }
      },
      "text/html": [
       "<div>\n",
       "<style scoped>\n",
       "    .dataframe tbody tr th:only-of-type {\n",
       "        vertical-align: middle;\n",
       "    }\n",
       "\n",
       "    .dataframe tbody tr th {\n",
       "        vertical-align: top;\n",
       "    }\n",
       "\n",
       "    .dataframe thead th {\n",
       "        text-align: right;\n",
       "    }\n",
       "</style>\n",
       "<table border=\"1\" class=\"dataframe\">\n",
       "  <thead>\n",
       "    <tr style=\"text-align: right;\">\n",
       "      <th></th>\n",
       "      <th>Model</th>\n",
       "      <th>Target</th>\n",
       "      <th>MAE (train)</th>\n",
       "      <th>MAE (val)</th>\n",
       "      <th>R2 (train)</th>\n",
       "      <th>R2 (val)</th>\n",
       "      <th>rRMSE% (train)</th>\n",
       "      <th>rRMSE% (val)</th>\n",
       "    </tr>\n",
       "  </thead>\n",
       "  <tbody>\n",
       "    <tr>\n",
       "      <th>0</th>\n",
       "      <td>LightGBM</td>\n",
       "      <td>IBA</td>\n",
       "      <td>615.07</td>\n",
       "      <td>716.51</td>\n",
       "      <td>0.69</td>\n",
       "      <td>0.08</td>\n",
       "      <td>42.66</td>\n",
       "      <td>54.96</td>\n",
       "    </tr>\n",
       "    <tr>\n",
       "      <th>1</th>\n",
       "      <td>LightGBM</td>\n",
       "      <td>VWC</td>\n",
       "      <td>48.78</td>\n",
       "      <td>70.44</td>\n",
       "      <td>0.68</td>\n",
       "      <td>0.37</td>\n",
       "      <td>27.82</td>\n",
       "      <td>40.83</td>\n",
       "    </tr>\n",
       "    <tr>\n",
       "      <th>2</th>\n",
       "      <td>LightGBM</td>\n",
       "      <td>biomass</td>\n",
       "      <td>195.14</td>\n",
       "      <td>281.77</td>\n",
       "      <td>0.68</td>\n",
       "      <td>0.37</td>\n",
       "      <td>27.82</td>\n",
       "      <td>40.83</td>\n",
       "    </tr>\n",
       "  </tbody>\n",
       "</table>\n",
       "</div>"
      ],
      "text/plain": [
       "      Model   Target  MAE (train)  MAE (val)  R2 (train)  R2 (val)  \\\n",
       "0  LightGBM      IBA       615.07     716.51        0.69      0.08   \n",
       "1  LightGBM      VWC        48.78      70.44        0.68      0.37   \n",
       "2  LightGBM  biomass       195.14     281.77        0.68      0.37   \n",
       "\n",
       "   rRMSE% (train)  rRMSE% (val)  \n",
       "0           42.66         54.96  \n",
       "1           27.82         40.83  \n",
       "2           27.82         40.83  "
      ]
     },
     "execution_count": 4,
     "metadata": {},
     "output_type": "execute_result"
    }
   ],
   "source": [
    "# imprimir el modelo con mejores resultados para cada variable objetivo\n",
    "best_models = grass_pivot.loc[grass_pivot.groupby('Target')['R2 (train)'].idxmax()]\n",
    "best_models"
   ]
  },
  {
   "cell_type": "markdown",
   "id": "b9df7711",
   "metadata": {},
   "source": [
    "## Citrus"
   ]
  },
  {
   "cell_type": "code",
   "execution_count": 5,
   "id": "8d8d349b",
   "metadata": {},
   "outputs": [
    {
     "data": {
      "application/vnd.microsoft.datawrangler.viewer.v0+json": {
       "columns": [
        {
         "name": "index",
         "rawType": "int64",
         "type": "integer"
        },
        {
         "name": "model",
         "rawType": "object",
         "type": "string"
        },
        {
         "name": "target",
         "rawType": "object",
         "type": "string"
        },
        {
         "name": "metric",
         "rawType": "object",
         "type": "string"
        },
        {
         "name": "set",
         "rawType": "object",
         "type": "string"
        },
        {
         "name": "value",
         "rawType": "float64",
         "type": "float"
        }
       ],
       "ref": "4c7b9a1d-39d7-4ed1-abd1-323c100cfad2",
       "rows": [
        [
         "0",
         "Linear Regression",
         "Biomass",
         "RMSE",
         "train",
         "16.9159189768231"
        ],
        [
         "1",
         "Linear Regression",
         "Biomass",
         "RMSE",
         "val",
         "19.262648248595724"
        ],
        [
         "2",
         "Linear Regression",
         "Biomass",
         "MAE",
         "train",
         "13.99742386464722"
        ],
        [
         "3",
         "Linear Regression",
         "Biomass",
         "MAE",
         "val",
         "16.314296846189105"
        ],
        [
         "4",
         "Linear Regression",
         "Biomass",
         "R2",
         "train",
         "0.1439835106920985"
        ]
       ],
       "shape": {
        "columns": 5,
        "rows": 5
       }
      },
      "text/html": [
       "<div>\n",
       "<style scoped>\n",
       "    .dataframe tbody tr th:only-of-type {\n",
       "        vertical-align: middle;\n",
       "    }\n",
       "\n",
       "    .dataframe tbody tr th {\n",
       "        vertical-align: top;\n",
       "    }\n",
       "\n",
       "    .dataframe thead th {\n",
       "        text-align: right;\n",
       "    }\n",
       "</style>\n",
       "<table border=\"1\" class=\"dataframe\">\n",
       "  <thead>\n",
       "    <tr style=\"text-align: right;\">\n",
       "      <th></th>\n",
       "      <th>model</th>\n",
       "      <th>target</th>\n",
       "      <th>metric</th>\n",
       "      <th>set</th>\n",
       "      <th>value</th>\n",
       "    </tr>\n",
       "  </thead>\n",
       "  <tbody>\n",
       "    <tr>\n",
       "      <th>0</th>\n",
       "      <td>Linear Regression</td>\n",
       "      <td>Biomass</td>\n",
       "      <td>RMSE</td>\n",
       "      <td>train</td>\n",
       "      <td>16.915919</td>\n",
       "    </tr>\n",
       "    <tr>\n",
       "      <th>1</th>\n",
       "      <td>Linear Regression</td>\n",
       "      <td>Biomass</td>\n",
       "      <td>RMSE</td>\n",
       "      <td>val</td>\n",
       "      <td>19.262648</td>\n",
       "    </tr>\n",
       "    <tr>\n",
       "      <th>2</th>\n",
       "      <td>Linear Regression</td>\n",
       "      <td>Biomass</td>\n",
       "      <td>MAE</td>\n",
       "      <td>train</td>\n",
       "      <td>13.997424</td>\n",
       "    </tr>\n",
       "    <tr>\n",
       "      <th>3</th>\n",
       "      <td>Linear Regression</td>\n",
       "      <td>Biomass</td>\n",
       "      <td>MAE</td>\n",
       "      <td>val</td>\n",
       "      <td>16.314297</td>\n",
       "    </tr>\n",
       "    <tr>\n",
       "      <th>4</th>\n",
       "      <td>Linear Regression</td>\n",
       "      <td>Biomass</td>\n",
       "      <td>R2</td>\n",
       "      <td>train</td>\n",
       "      <td>0.143984</td>\n",
       "    </tr>\n",
       "  </tbody>\n",
       "</table>\n",
       "</div>"
      ],
      "text/plain": [
       "               model   target metric    set      value\n",
       "0  Linear Regression  Biomass   RMSE  train  16.915919\n",
       "1  Linear Regression  Biomass   RMSE    val  19.262648\n",
       "2  Linear Regression  Biomass    MAE  train  13.997424\n",
       "3  Linear Regression  Biomass    MAE    val  16.314297\n",
       "4  Linear Regression  Biomass     R2  train   0.143984"
      ]
     },
     "execution_count": 5,
     "metadata": {},
     "output_type": "execute_result"
    }
   ],
   "source": [
    "# Extraer las métricas para los citricos\n",
    "base_dir = '../../results/canopy'\n",
    "citrus_variables = ['tree_height', 'canopy_diam', 'biomass']\n",
    "\n",
    "metrics_citrus = gather_model_metrics(base_dir, citrus_variables, model_folders=None)\n",
    "# Cambiar nombre de filas\n",
    "metrics_citrus['target'] = metrics_citrus['target'].replace('tree_height', 'Tree height')\n",
    "metrics_citrus['target'] = metrics_citrus['target'].replace('canopy_diam', 'Canopy diameter')\n",
    "metrics_citrus['target'] = metrics_citrus['target'].replace('biomass', 'Biomass')\n",
    "metrics_citrus.head()"
   ]
  },
  {
   "cell_type": "code",
   "execution_count": 7,
   "id": "c7b0e2fc",
   "metadata": {},
   "outputs": [
    {
     "data": {
      "application/vnd.microsoft.datawrangler.viewer.v0+json": {
       "columns": [
        {
         "name": "index",
         "rawType": "int64",
         "type": "integer"
        },
        {
         "name": "Model",
         "rawType": "object",
         "type": "string"
        },
        {
         "name": "Target",
         "rawType": "object",
         "type": "string"
        },
        {
         "name": "MAE (train)",
         "rawType": "float64",
         "type": "float"
        },
        {
         "name": "MAE (val)",
         "rawType": "float64",
         "type": "float"
        },
        {
         "name": "R2 (train)",
         "rawType": "float64",
         "type": "float"
        },
        {
         "name": "R2 (val)",
         "rawType": "float64",
         "type": "float"
        },
        {
         "name": "rRMSE% (train)",
         "rawType": "float64",
         "type": "float"
        },
        {
         "name": "rRMSE% (val)",
         "rawType": "float64",
         "type": "float"
        }
       ],
       "ref": "bf0edbb8-ef5a-4424-b3c6-922ee1888694",
       "rows": [
        [
         "0",
         "LightGBM",
         "Biomass",
         "5.44",
         "8.99",
         "0.85",
         "0.63",
         "29.77",
         "50.31"
        ],
        [
         "1",
         "LightGBM",
         "Canopy diameter",
         "0.36",
         "0.65",
         "0.7",
         "0.22",
         "13.38",
         "28.83"
        ],
        [
         "2",
         "LightGBM",
         "Tree height",
         "0.26",
         "0.37",
         "0.87",
         "0.7",
         "11.9",
         "18.98"
        ],
        [
         "3",
         "Linear Regression",
         "Biomass",
         "14.0",
         "16.31",
         "0.14",
         "0.13",
         "71.21",
         "77.23"
        ],
        [
         "4",
         "Linear Regression",
         "Canopy diameter",
         "0.65",
         "0.77",
         "0.1",
         "0.16",
         "23.15",
         "29.97"
        ]
       ],
       "shape": {
        "columns": 8,
        "rows": 5
       }
      },
      "text/html": [
       "<div>\n",
       "<style scoped>\n",
       "    .dataframe tbody tr th:only-of-type {\n",
       "        vertical-align: middle;\n",
       "    }\n",
       "\n",
       "    .dataframe tbody tr th {\n",
       "        vertical-align: top;\n",
       "    }\n",
       "\n",
       "    .dataframe thead th {\n",
       "        text-align: right;\n",
       "    }\n",
       "</style>\n",
       "<table border=\"1\" class=\"dataframe\">\n",
       "  <thead>\n",
       "    <tr style=\"text-align: right;\">\n",
       "      <th></th>\n",
       "      <th>Model</th>\n",
       "      <th>Target</th>\n",
       "      <th>MAE (train)</th>\n",
       "      <th>MAE (val)</th>\n",
       "      <th>R2 (train)</th>\n",
       "      <th>R2 (val)</th>\n",
       "      <th>rRMSE% (train)</th>\n",
       "      <th>rRMSE% (val)</th>\n",
       "    </tr>\n",
       "  </thead>\n",
       "  <tbody>\n",
       "    <tr>\n",
       "      <th>0</th>\n",
       "      <td>LightGBM</td>\n",
       "      <td>Biomass</td>\n",
       "      <td>5.44</td>\n",
       "      <td>8.99</td>\n",
       "      <td>0.85</td>\n",
       "      <td>0.63</td>\n",
       "      <td>29.77</td>\n",
       "      <td>50.31</td>\n",
       "    </tr>\n",
       "    <tr>\n",
       "      <th>1</th>\n",
       "      <td>LightGBM</td>\n",
       "      <td>Canopy diameter</td>\n",
       "      <td>0.36</td>\n",
       "      <td>0.65</td>\n",
       "      <td>0.70</td>\n",
       "      <td>0.22</td>\n",
       "      <td>13.38</td>\n",
       "      <td>28.83</td>\n",
       "    </tr>\n",
       "    <tr>\n",
       "      <th>2</th>\n",
       "      <td>LightGBM</td>\n",
       "      <td>Tree height</td>\n",
       "      <td>0.26</td>\n",
       "      <td>0.37</td>\n",
       "      <td>0.87</td>\n",
       "      <td>0.70</td>\n",
       "      <td>11.90</td>\n",
       "      <td>18.98</td>\n",
       "    </tr>\n",
       "    <tr>\n",
       "      <th>3</th>\n",
       "      <td>Linear Regression</td>\n",
       "      <td>Biomass</td>\n",
       "      <td>14.00</td>\n",
       "      <td>16.31</td>\n",
       "      <td>0.14</td>\n",
       "      <td>0.13</td>\n",
       "      <td>71.21</td>\n",
       "      <td>77.23</td>\n",
       "    </tr>\n",
       "    <tr>\n",
       "      <th>4</th>\n",
       "      <td>Linear Regression</td>\n",
       "      <td>Canopy diameter</td>\n",
       "      <td>0.65</td>\n",
       "      <td>0.77</td>\n",
       "      <td>0.10</td>\n",
       "      <td>0.16</td>\n",
       "      <td>23.15</td>\n",
       "      <td>29.97</td>\n",
       "    </tr>\n",
       "  </tbody>\n",
       "</table>\n",
       "</div>"
      ],
      "text/plain": [
       "               Model           Target  MAE (train)  MAE (val)  R2 (train)  \\\n",
       "0           LightGBM          Biomass         5.44       8.99        0.85   \n",
       "1           LightGBM  Canopy diameter         0.36       0.65        0.70   \n",
       "2           LightGBM      Tree height         0.26       0.37        0.87   \n",
       "3  Linear Regression          Biomass        14.00      16.31        0.14   \n",
       "4  Linear Regression  Canopy diameter         0.65       0.77        0.10   \n",
       "\n",
       "   R2 (val)  rRMSE% (train)  rRMSE% (val)  \n",
       "0      0.63           29.77         50.31  \n",
       "1      0.22           13.38         28.83  \n",
       "2      0.70           11.90         18.98  \n",
       "3      0.13           71.21         77.23  \n",
       "4      0.16           23.15         29.97  "
      ]
     },
     "execution_count": 7,
     "metadata": {},
     "output_type": "execute_result"
    }
   ],
   "source": [
    "# Crear la tabla organizada de metricas\n",
    "from utils.evaluation import create_metrics_table\n",
    "citrus_pivot = create_metrics_table(metrics_citrus, export_to_latex=True, filepath='../../results/canopy/latex_metrics_canopy.txt')\n",
    "citrus_pivot.head()"
   ]
  },
  {
   "cell_type": "code",
   "execution_count": 12,
   "id": "a45c3a58",
   "metadata": {},
   "outputs": [
    {
     "data": {
      "application/vnd.microsoft.datawrangler.viewer.v0+json": {
       "columns": [
        {
         "name": "Model",
         "rawType": "object",
         "type": "string"
        },
        {
         "name": "MAE (train)",
         "rawType": "float64",
         "type": "float"
        },
        {
         "name": "MAE (val)",
         "rawType": "float64",
         "type": "float"
        },
        {
         "name": "R2 (train)",
         "rawType": "float64",
         "type": "float"
        },
        {
         "name": "R2 (val)",
         "rawType": "float64",
         "type": "float"
        },
        {
         "name": "rRMSE% (train)",
         "rawType": "float64",
         "type": "float"
        },
        {
         "name": "rRMSE% (val)",
         "rawType": "float64",
         "type": "float"
        }
       ],
       "ref": "9d2d6026-d4f9-41e2-964d-5d0c18ac16d9",
       "rows": [
        [
         "LightGBM",
         "2.02",
         "3.34",
         "0.81",
         "0.52",
         "18.35",
         "32.71"
        ],
        [
         "Linear Regression",
         "5.12",
         "5.95",
         "0.13",
         "0.13",
         "41.49",
         "46.79"
        ],
        [
         "Nadaraya-Watson",
         "2.3",
         "3.14",
         "0.76",
         "0.57",
         "21.29",
         "30.5"
        ],
        [
         "Random Forest",
         "1.68",
         "3.37",
         "0.84",
         "0.52",
         "16.05",
         "32.66"
        ]
       ],
       "shape": {
        "columns": 6,
        "rows": 4
       }
      },
      "text/html": [
       "<div>\n",
       "<style scoped>\n",
       "    .dataframe tbody tr th:only-of-type {\n",
       "        vertical-align: middle;\n",
       "    }\n",
       "\n",
       "    .dataframe tbody tr th {\n",
       "        vertical-align: top;\n",
       "    }\n",
       "\n",
       "    .dataframe thead th {\n",
       "        text-align: right;\n",
       "    }\n",
       "</style>\n",
       "<table border=\"1\" class=\"dataframe\">\n",
       "  <thead>\n",
       "    <tr style=\"text-align: right;\">\n",
       "      <th></th>\n",
       "      <th>MAE (train)</th>\n",
       "      <th>MAE (val)</th>\n",
       "      <th>R2 (train)</th>\n",
       "      <th>R2 (val)</th>\n",
       "      <th>rRMSE% (train)</th>\n",
       "      <th>rRMSE% (val)</th>\n",
       "    </tr>\n",
       "    <tr>\n",
       "      <th>Model</th>\n",
       "      <th></th>\n",
       "      <th></th>\n",
       "      <th></th>\n",
       "      <th></th>\n",
       "      <th></th>\n",
       "      <th></th>\n",
       "    </tr>\n",
       "  </thead>\n",
       "  <tbody>\n",
       "    <tr>\n",
       "      <th>LightGBM</th>\n",
       "      <td>2.02</td>\n",
       "      <td>3.34</td>\n",
       "      <td>0.81</td>\n",
       "      <td>0.52</td>\n",
       "      <td>18.35</td>\n",
       "      <td>32.71</td>\n",
       "    </tr>\n",
       "    <tr>\n",
       "      <th>Linear Regression</th>\n",
       "      <td>5.12</td>\n",
       "      <td>5.95</td>\n",
       "      <td>0.13</td>\n",
       "      <td>0.13</td>\n",
       "      <td>41.49</td>\n",
       "      <td>46.79</td>\n",
       "    </tr>\n",
       "    <tr>\n",
       "      <th>Nadaraya-Watson</th>\n",
       "      <td>2.30</td>\n",
       "      <td>3.14</td>\n",
       "      <td>0.76</td>\n",
       "      <td>0.57</td>\n",
       "      <td>21.29</td>\n",
       "      <td>30.50</td>\n",
       "    </tr>\n",
       "    <tr>\n",
       "      <th>Random Forest</th>\n",
       "      <td>1.68</td>\n",
       "      <td>3.37</td>\n",
       "      <td>0.84</td>\n",
       "      <td>0.52</td>\n",
       "      <td>16.05</td>\n",
       "      <td>32.66</td>\n",
       "    </tr>\n",
       "  </tbody>\n",
       "</table>\n",
       "</div>"
      ],
      "text/plain": [
       "                   MAE (train)  MAE (val)  R2 (train)  R2 (val)  \\\n",
       "Model                                                             \n",
       "LightGBM                  2.02       3.34        0.81      0.52   \n",
       "Linear Regression         5.12       5.95        0.13      0.13   \n",
       "Nadaraya-Watson           2.30       3.14        0.76      0.57   \n",
       "Random Forest             1.68       3.37        0.84      0.52   \n",
       "\n",
       "                   rRMSE% (train)  rRMSE% (val)  \n",
       "Model                                            \n",
       "LightGBM                    18.35         32.71  \n",
       "Linear Regression           41.49         46.79  \n",
       "Nadaraya-Watson             21.29         30.50  \n",
       "Random Forest               16.05         32.66  "
      ]
     },
     "execution_count": 12,
     "metadata": {},
     "output_type": "execute_result"
    }
   ],
   "source": [
    "# Obtener el promedio por modelo y excluir la columna 'Target'\n",
    "mean_metrics = citrus_pivot.drop(columns=['Target'])\n",
    "mean_metrics = mean_metrics.groupby('Model').mean()\n",
    "# Redondear a dos decimales\n",
    "mean_metrics = mean_metrics.round(2)\n",
    "mean_metrics"
   ]
  },
  {
   "cell_type": "code",
   "execution_count": 8,
   "id": "5ab7a819",
   "metadata": {},
   "outputs": [
    {
     "data": {
      "application/vnd.microsoft.datawrangler.viewer.v0+json": {
       "columns": [
        {
         "name": "index",
         "rawType": "int64",
         "type": "integer"
        },
        {
         "name": "Model",
         "rawType": "object",
         "type": "string"
        },
        {
         "name": "Target",
         "rawType": "object",
         "type": "string"
        },
        {
         "name": "MAE (train)",
         "rawType": "float64",
         "type": "float"
        },
        {
         "name": "MAE (val)",
         "rawType": "float64",
         "type": "float"
        },
        {
         "name": "R2 (train)",
         "rawType": "float64",
         "type": "float"
        },
        {
         "name": "R2 (val)",
         "rawType": "float64",
         "type": "float"
        },
        {
         "name": "rRMSE% (train)",
         "rawType": "float64",
         "type": "float"
        },
        {
         "name": "rRMSE% (val)",
         "rawType": "float64",
         "type": "float"
        }
       ],
       "ref": "a6236883-1d33-40a6-9f7d-1aaede77860e",
       "rows": [
        [
         "9",
         "Random Forest",
         "Biomass",
         "4.46",
         "9.07",
         "0.89",
         "0.62",
         "25.47",
         "51.08"
        ],
        [
         "10",
         "Random Forest",
         "Canopy diameter",
         "0.35",
         "0.66",
         "0.73",
         "0.22",
         "12.72",
         "28.83"
        ],
        [
         "11",
         "Random Forest",
         "Tree height",
         "0.22",
         "0.39",
         "0.91",
         "0.73",
         "9.95",
         "18.07"
        ]
       ],
       "shape": {
        "columns": 8,
        "rows": 3
       }
      },
      "text/html": [
       "<div>\n",
       "<style scoped>\n",
       "    .dataframe tbody tr th:only-of-type {\n",
       "        vertical-align: middle;\n",
       "    }\n",
       "\n",
       "    .dataframe tbody tr th {\n",
       "        vertical-align: top;\n",
       "    }\n",
       "\n",
       "    .dataframe thead th {\n",
       "        text-align: right;\n",
       "    }\n",
       "</style>\n",
       "<table border=\"1\" class=\"dataframe\">\n",
       "  <thead>\n",
       "    <tr style=\"text-align: right;\">\n",
       "      <th></th>\n",
       "      <th>Model</th>\n",
       "      <th>Target</th>\n",
       "      <th>MAE (train)</th>\n",
       "      <th>MAE (val)</th>\n",
       "      <th>R2 (train)</th>\n",
       "      <th>R2 (val)</th>\n",
       "      <th>rRMSE% (train)</th>\n",
       "      <th>rRMSE% (val)</th>\n",
       "    </tr>\n",
       "  </thead>\n",
       "  <tbody>\n",
       "    <tr>\n",
       "      <th>9</th>\n",
       "      <td>Random Forest</td>\n",
       "      <td>Biomass</td>\n",
       "      <td>4.46</td>\n",
       "      <td>9.07</td>\n",
       "      <td>0.89</td>\n",
       "      <td>0.62</td>\n",
       "      <td>25.47</td>\n",
       "      <td>51.08</td>\n",
       "    </tr>\n",
       "    <tr>\n",
       "      <th>10</th>\n",
       "      <td>Random Forest</td>\n",
       "      <td>Canopy diameter</td>\n",
       "      <td>0.35</td>\n",
       "      <td>0.66</td>\n",
       "      <td>0.73</td>\n",
       "      <td>0.22</td>\n",
       "      <td>12.72</td>\n",
       "      <td>28.83</td>\n",
       "    </tr>\n",
       "    <tr>\n",
       "      <th>11</th>\n",
       "      <td>Random Forest</td>\n",
       "      <td>Tree height</td>\n",
       "      <td>0.22</td>\n",
       "      <td>0.39</td>\n",
       "      <td>0.91</td>\n",
       "      <td>0.73</td>\n",
       "      <td>9.95</td>\n",
       "      <td>18.07</td>\n",
       "    </tr>\n",
       "  </tbody>\n",
       "</table>\n",
       "</div>"
      ],
      "text/plain": [
       "            Model           Target  MAE (train)  MAE (val)  R2 (train)  \\\n",
       "9   Random Forest          Biomass         4.46       9.07        0.89   \n",
       "10  Random Forest  Canopy diameter         0.35       0.66        0.73   \n",
       "11  Random Forest      Tree height         0.22       0.39        0.91   \n",
       "\n",
       "    R2 (val)  rRMSE% (train)  rRMSE% (val)  \n",
       "9       0.62           25.47         51.08  \n",
       "10      0.22           12.72         28.83  \n",
       "11      0.73            9.95         18.07  "
      ]
     },
     "execution_count": 8,
     "metadata": {},
     "output_type": "execute_result"
    }
   ],
   "source": [
    "# imprimir el modelo con mejores resultados para cada variable objetivo\n",
    "best_models = citrus_pivot.loc[citrus_pivot.groupby('Target')['R2 (train)'].idxmax()]\n",
    "best_models"
   ]
  }
 ],
 "metadata": {
  "kernelspec": {
   "display_name": "sar_env",
   "language": "python",
   "name": "python3"
  },
  "language_info": {
   "codemirror_mode": {
    "name": "ipython",
    "version": 3
   },
   "file_extension": ".py",
   "mimetype": "text/x-python",
   "name": "python",
   "nbconvert_exporter": "python",
   "pygments_lexer": "ipython3",
   "version": "3.13.5"
  }
 },
 "nbformat": 4,
 "nbformat_minor": 5
}
